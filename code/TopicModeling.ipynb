{
 "cells": [
  {
   "cell_type": "code",
   "execution_count": 1,
   "metadata": {},
   "outputs": [],
   "source": [
    "import pandas as pd"
   ]
  },
  {
   "cell_type": "code",
   "execution_count": 2,
   "metadata": {},
   "outputs": [
    {
     "data": {
      "text/html": [
       "<div>\n",
       "<style scoped>\n",
       "    .dataframe tbody tr th:only-of-type {\n",
       "        vertical-align: middle;\n",
       "    }\n",
       "\n",
       "    .dataframe tbody tr th {\n",
       "        vertical-align: top;\n",
       "    }\n",
       "\n",
       "    .dataframe thead th {\n",
       "        text-align: right;\n",
       "    }\n",
       "</style>\n",
       "<table border=\"1\" class=\"dataframe\">\n",
       "  <thead>\n",
       "    <tr style=\"text-align: right;\">\n",
       "      <th></th>\n",
       "      <th>upvotes</th>\n",
       "      <th>date</th>\n",
       "      <th>title</th>\n",
       "      <th>username</th>\n",
       "      <th>subreddit</th>\n",
       "      <th>text</th>\n",
       "      <th>post_id</th>\n",
       "    </tr>\n",
       "  </thead>\n",
       "  <tbody>\n",
       "    <tr>\n",
       "      <th>0</th>\n",
       "      <td>43</td>\n",
       "      <td>2023-07-01</td>\n",
       "      <td>Will Israel still be habitable in the decades ...</td>\n",
       "      <td>u/TransThrowaway4096</td>\n",
       "      <td>r/Israel</td>\n",
       "      <td>One of my dreams to make Aliyah, but as as the...</td>\n",
       "      <td>14ngcep</td>\n",
       "    </tr>\n",
       "    <tr>\n",
       "      <th>1</th>\n",
       "      <td>28</td>\n",
       "      <td>2023-07-01</td>\n",
       "      <td>What am I? I feel like an imposter.</td>\n",
       "      <td>u/Iamthe_slime</td>\n",
       "      <td>r/Jewish</td>\n",
       "      <td>Idrk what I expect from this but I feel like I...</td>\n",
       "      <td>14nwxg7</td>\n",
       "    </tr>\n",
       "    <tr>\n",
       "      <th>2</th>\n",
       "      <td>3</td>\n",
       "      <td>2023-07-01</td>\n",
       "      <td>Leatherwork Store</td>\n",
       "      <td>u/aritex90</td>\n",
       "      <td>r/Israel</td>\n",
       "      <td>Is there any hobby shop or art store that I ca...</td>\n",
       "      <td>14nxnnm</td>\n",
       "    </tr>\n",
       "    <tr>\n",
       "      <th>3</th>\n",
       "      <td>8</td>\n",
       "      <td>2023-07-01</td>\n",
       "      <td>Need help with second hand/used furniture home...</td>\n",
       "      <td>u/Turbulent-Attempt-71</td>\n",
       "      <td>r/Israel</td>\n",
       "      <td>Hi guys,\\n\\nSo I'm finally leaving my relative...</td>\n",
       "      <td>14nxo7m</td>\n",
       "    </tr>\n",
       "    <tr>\n",
       "      <th>4</th>\n",
       "      <td>1</td>\n",
       "      <td>2023-07-01</td>\n",
       "      <td>Vengeful God’s wisdom</td>\n",
       "      <td>u/samlerman</td>\n",
       "      <td>r/Judaism</td>\n",
       "      <td>God set fire to every part of my life on the m...</td>\n",
       "      <td>14nxugl</td>\n",
       "    </tr>\n",
       "  </tbody>\n",
       "</table>\n",
       "</div>"
      ],
      "text/plain": [
       "   upvotes        date                                              title  \\\n",
       "0       43  2023-07-01  Will Israel still be habitable in the decades ...   \n",
       "1       28  2023-07-01                What am I? I feel like an imposter.   \n",
       "2        3  2023-07-01                                  Leatherwork Store   \n",
       "3        8  2023-07-01  Need help with second hand/used furniture home...   \n",
       "4        1  2023-07-01                              Vengeful God’s wisdom   \n",
       "\n",
       "                 username  subreddit  \\\n",
       "0    u/TransThrowaway4096   r/Israel   \n",
       "1          u/Iamthe_slime   r/Jewish   \n",
       "2              u/aritex90   r/Israel   \n",
       "3  u/Turbulent-Attempt-71   r/Israel   \n",
       "4             u/samlerman  r/Judaism   \n",
       "\n",
       "                                                text  post_id  \n",
       "0  One of my dreams to make Aliyah, but as as the...  14ngcep  \n",
       "1  Idrk what I expect from this but I feel like I...  14nwxg7  \n",
       "2  Is there any hobby shop or art store that I ca...  14nxnnm  \n",
       "3  Hi guys,\\n\\nSo I'm finally leaving my relative...  14nxo7m  \n",
       "4  God set fire to every part of my life on the m...  14nxugl  "
      ]
     },
     "execution_count": 2,
     "metadata": {},
     "output_type": "execute_result"
    }
   ],
   "source": [
    "df = pd.read_csv('RedditSubmissionsClean.csv').drop('Unnamed: 0', axis = 1)\n",
    "df.head()"
   ]
  },
  {
   "cell_type": "code",
   "execution_count": 3,
   "metadata": {},
   "outputs": [
    {
     "data": {
      "text/plain": [
       "subreddit\n",
       "r/Judaism            7307\n",
       "r/IsraelPalestine    6667\n",
       "r/Israel             5960\n",
       "r/Jewish             4666\n",
       "r/Palestine          1412\n",
       "Name: count, dtype: int64"
      ]
     },
     "execution_count": 3,
     "metadata": {},
     "output_type": "execute_result"
    }
   ],
   "source": [
    "df.subreddit.value_counts()"
   ]
  },
  {
   "cell_type": "code",
   "execution_count": 4,
   "metadata": {},
   "outputs": [
    {
     "data": {
      "text/html": [
       "<div>\n",
       "<style scoped>\n",
       "    .dataframe tbody tr th:only-of-type {\n",
       "        vertical-align: middle;\n",
       "    }\n",
       "\n",
       "    .dataframe tbody tr th {\n",
       "        vertical-align: top;\n",
       "    }\n",
       "\n",
       "    .dataframe thead th {\n",
       "        text-align: right;\n",
       "    }\n",
       "</style>\n",
       "<table border=\"1\" class=\"dataframe\">\n",
       "  <thead>\n",
       "    <tr style=\"text-align: right;\">\n",
       "      <th></th>\n",
       "      <th>upvotes</th>\n",
       "      <th>date</th>\n",
       "      <th>title</th>\n",
       "      <th>username</th>\n",
       "      <th>subreddit</th>\n",
       "      <th>text</th>\n",
       "      <th>post_id</th>\n",
       "      <th>predicted_label</th>\n",
       "    </tr>\n",
       "  </thead>\n",
       "  <tbody>\n",
       "    <tr>\n",
       "      <th>0</th>\n",
       "      <td>16</td>\n",
       "      <td>2023-07-01</td>\n",
       "      <td>How likely is a peace treaty between Israel an...</td>\n",
       "      <td>u/ANobodyBoy</td>\n",
       "      <td>r/IsraelPalestine</td>\n",
       "      <td>Either for a two-state solution or a one-state...</td>\n",
       "      <td>14o273q</td>\n",
       "      <td>0</td>\n",
       "    </tr>\n",
       "    <tr>\n",
       "      <th>1</th>\n",
       "      <td>5</td>\n",
       "      <td>2023-07-01</td>\n",
       "      <td>The lies of the anti-zionist movement</td>\n",
       "      <td>u/One-Trash3743</td>\n",
       "      <td>r/IsraelPalestine</td>\n",
       "      <td>Antizionists always claim that they're not aga...</td>\n",
       "      <td>14niaul</td>\n",
       "      <td>0</td>\n",
       "    </tr>\n",
       "    <tr>\n",
       "      <th>2</th>\n",
       "      <td>1</td>\n",
       "      <td>2023-07-01</td>\n",
       "      <td>THE KINGDOM OF JERUSALEM IS FOREVER</td>\n",
       "      <td>u/TheBasedFeudalist163</td>\n",
       "      <td>r/IsraelPalestine</td>\n",
       "      <td>Reject the false dichotomy both states are the...</td>\n",
       "      <td>14nmufa</td>\n",
       "      <td>0</td>\n",
       "    </tr>\n",
       "    <tr>\n",
       "      <th>3</th>\n",
       "      <td>1</td>\n",
       "      <td>2023-07-01</td>\n",
       "      <td>Anyone looking to discuss the conflict</td>\n",
       "      <td>u/Salty_Werewolf6532</td>\n",
       "      <td>r/IsraelPalestine</td>\n",
       "      <td>Looking for a pro Palestinian to discuss the c...</td>\n",
       "      <td>14nt4nu</td>\n",
       "      <td>1</td>\n",
       "    </tr>\n",
       "    <tr>\n",
       "      <th>4</th>\n",
       "      <td>2</td>\n",
       "      <td>2023-07-02</td>\n",
       "      <td>Does anyone think a one state solution is even...</td>\n",
       "      <td>u/SoleySaul</td>\n",
       "      <td>r/IsraelPalestine</td>\n",
       "      <td>I have never been a proponent of a one state s...</td>\n",
       "      <td>14opxhk</td>\n",
       "      <td>0</td>\n",
       "    </tr>\n",
       "  </tbody>\n",
       "</table>\n",
       "</div>"
      ],
      "text/plain": [
       "   upvotes        date                                              title  \\\n",
       "0       16  2023-07-01  How likely is a peace treaty between Israel an...   \n",
       "1        5  2023-07-01              The lies of the anti-zionist movement   \n",
       "2        1  2023-07-01                THE KINGDOM OF JERUSALEM IS FOREVER   \n",
       "3        1  2023-07-01             Anyone looking to discuss the conflict   \n",
       "4        2  2023-07-02  Does anyone think a one state solution is even...   \n",
       "\n",
       "                 username          subreddit  \\\n",
       "0            u/ANobodyBoy  r/IsraelPalestine   \n",
       "1         u/One-Trash3743  r/IsraelPalestine   \n",
       "2  u/TheBasedFeudalist163  r/IsraelPalestine   \n",
       "3    u/Salty_Werewolf6532  r/IsraelPalestine   \n",
       "4             u/SoleySaul  r/IsraelPalestine   \n",
       "\n",
       "                                                text  post_id  predicted_label  \n",
       "0  Either for a two-state solution or a one-state...  14o273q                0  \n",
       "1  Antizionists always claim that they're not aga...  14niaul                0  \n",
       "2  Reject the false dichotomy both states are the...  14nmufa                0  \n",
       "3  Looking for a pro Palestinian to discuss the c...  14nt4nu                1  \n",
       "4  I have never been a proponent of a one state s...  14opxhk                0  "
      ]
     },
     "execution_count": 4,
     "metadata": {},
     "output_type": "execute_result"
    }
   ],
   "source": [
    "df_predicted = pd.read_csv('IsraelPalestinePredicted.csv').drop(['Unnamed: 0.1','Unnamed: 0'], axis = 1)\n",
    "df_predicted.head()"
   ]
  },
  {
   "cell_type": "code",
   "execution_count": 5,
   "metadata": {},
   "outputs": [],
   "source": [
    "df_pred_is = df_predicted[df_predicted.predicted_label == 0]\n",
    "df_pred_pal = df_predicted[df_predicted.predicted_label == 1]"
   ]
  },
  {
   "cell_type": "code",
   "execution_count": 6,
   "metadata": {},
   "outputs": [],
   "source": [
    "df_sub_is = df[df.subreddit == 'r/Israel']\n",
    "df_sub_pal = df[df.subreddit == 'r/Palestine']"
   ]
  },
  {
   "cell_type": "markdown",
   "metadata": {},
   "source": [
    "Merge all pro-Israel/pro-Palestine content together"
   ]
  },
  {
   "cell_type": "code",
   "execution_count": 7,
   "metadata": {},
   "outputs": [
    {
     "name": "stdout",
     "output_type": "stream",
     "text": [
      "Shape of Israel Dataset: (10895, 8), Shape of Palestine Dataset: (3144, 8)\n"
     ]
    }
   ],
   "source": [
    "df_israel = pd.concat([df_pred_is, df_sub_is], ignore_index=True)\n",
    "df_palestine = pd.concat([df_pred_pal, df_sub_pal], ignore_index=True)\n",
    "print(f'Shape of Israel Dataset: {df_israel.shape}, Shape of Palestine Dataset: {df_palestine.shape}')"
   ]
  },
  {
   "cell_type": "markdown",
   "metadata": {},
   "source": [
    "### Add title to the text to be analyzed as it might contain important information"
   ]
  },
  {
   "cell_type": "code",
   "execution_count": 8,
   "metadata": {},
   "outputs": [],
   "source": [
    "df_israel['title_text'] = df_israel.title + ' ' + df_israel.text\n",
    "df_palestine['title_text'] = df_palestine.title + ' ' + df_palestine.text"
   ]
  },
  {
   "cell_type": "markdown",
   "metadata": {},
   "source": [
    "### Topic Modeling on Israel/Palestine dataset"
   ]
  },
  {
   "cell_type": "markdown",
   "metadata": {},
   "source": [
    "First step of preprocessing: lemmatize and keep only 'content' words"
   ]
  },
  {
   "cell_type": "code",
   "execution_count": 9,
   "metadata": {},
   "outputs": [],
   "source": [
    "import spacy\n",
    "nlp = spacy.load('en_core_web_sm')\n",
    "def clean(text):\n",
    "    return ' '.join([token.lemma_ \n",
    "            for token in nlp(text) \n",
    "            if token.pos_ in {'NOUN', 'ADJ', 'VERB', 'PROPN'}]) "
   ]
  },
  {
   "cell_type": "code",
   "execution_count": 10,
   "metadata": {},
   "outputs": [],
   "source": [
    "df_israel.loc[: ,'text_cleaned'] = df_israel.title_text.apply(clean)"
   ]
  },
  {
   "cell_type": "code",
   "execution_count": 11,
   "metadata": {},
   "outputs": [],
   "source": [
    "df_palestine.loc[: ,'text_cleaned'] = df_palestine.title_text.apply(clean)"
   ]
  },
  {
   "cell_type": "markdown",
   "metadata": {},
   "source": [
    "Second step of preprocessing: demojize, remove https, remove mentions (@), remove all non aphabet letters, and all words with less tha 3 characters"
   ]
  },
  {
   "cell_type": "code",
   "execution_count": null,
   "metadata": {},
   "outputs": [],
   "source": [
    "%pip install emoji"
   ]
  },
  {
   "cell_type": "code",
   "execution_count": 12,
   "metadata": {},
   "outputs": [],
   "source": [
    "import emoji\n",
    "import re\n",
    "\n",
    "def clean2(text):\n",
    "    text = text.lower()\n",
    "    text = emoji.demojize(text)\n",
    "    text = re.sub(r\"http\\S+\", \"\", text)\n",
    "    text = re.sub(r\"@\\w+\", \"\", text)\n",
    "    text = re.sub(r\"[^a-z\\s]\", \"\", text)\n",
    "    text = ' '.join([word for word in text.split() if len(word) > 2])\n",
    "    return text"
   ]
  },
  {
   "cell_type": "code",
   "execution_count": 13,
   "metadata": {},
   "outputs": [],
   "source": [
    "df_israel.loc[:,'text_cleaned_2'] = df_israel.text_cleaned.apply(clean2)"
   ]
  },
  {
   "cell_type": "code",
   "execution_count": 14,
   "metadata": {},
   "outputs": [],
   "source": [
    "df_palestine.loc[:,'text_cleaned_2'] = df_palestine.text_cleaned.apply(clean2)"
   ]
  },
  {
   "cell_type": "code",
   "execution_count": 15,
   "metadata": {},
   "outputs": [
    {
     "data": {
      "text/plain": [
       "0        likely peace treaty israel palestine next few ...\n",
       "1        lie anti zionist movement antizionist claim je...\n",
       "2        kingdom jerusalem reject false dichotomy state...\n",
       "3        think state solution viable proponent state so...\n",
       "4        difficult find trusted statistics think lot pe...\n",
       "                               ...                        \n",
       "10890    compelling succinct education friend try come ...\n",
       "10891    troll encampment buddy live university campus ...\n",
       "10892    letter president bush write prime minister ari...\n",
       "10893    gen american critique western pro israel senti...\n",
       "10894    death sentence terrorist know israel have deat...\n",
       "Name: text_cleaned_2, Length: 10895, dtype: object"
      ]
     },
     "execution_count": 15,
     "metadata": {},
     "output_type": "execute_result"
    }
   ],
   "source": [
    "df_israel.text_cleaned_2"
   ]
  },
  {
   "cell_type": "markdown",
   "metadata": {},
   "source": [
    "Remove observations with no text"
   ]
  },
  {
   "cell_type": "code",
   "execution_count": 16,
   "metadata": {},
   "outputs": [
    {
     "data": {
      "text/plain": [
       "10762"
      ]
     },
     "execution_count": 16,
     "metadata": {},
     "output_type": "execute_result"
    }
   ],
   "source": [
    "df_israel = df_israel[df_israel['text_cleaned_2'].notnull() & (df_israel['text_cleaned_2'] != '')]\n",
    "df_israel['text_cleaned_2'] = df_israel['text_cleaned_2'].apply(str)\n",
    "\n",
    "len(df_israel)"
   ]
  },
  {
   "cell_type": "code",
   "execution_count": 17,
   "metadata": {},
   "outputs": [
    {
     "data": {
      "text/plain": [
       "3132"
      ]
     },
     "execution_count": 17,
     "metadata": {},
     "output_type": "execute_result"
    }
   ],
   "source": [
    "df_palestine = df_palestine[df_palestine['text_cleaned_2'].notnull() & (df_palestine['text_cleaned_2'] != '')]\n",
    "df_palestine['text_cleaned_2'] = df_palestine['text_cleaned_2'].apply(str)\n",
    "\n",
    "len(df_palestine)"
   ]
  },
  {
   "cell_type": "markdown",
   "metadata": {},
   "source": [
    "## Dynamic Topic Modeling (BERTopic)"
   ]
  },
  {
   "cell_type": "code",
   "execution_count": 18,
   "metadata": {},
   "outputs": [
    {
     "name": "stderr",
     "output_type": "stream",
     "text": [
      "c:\\Users\\fedeu\\anaconda3\\envs\\nlp\\Lib\\site-packages\\tqdm\\auto.py:21: TqdmWarning: IProgress not found. Please update jupyter and ipywidgets. See https://ipywidgets.readthedocs.io/en/stable/user_install.html\n",
      "  from .autonotebook import tqdm as notebook_tqdm\n"
     ]
    }
   ],
   "source": [
    "%pip install bertopic\n",
    "from bertopic import BERTopic"
   ]
  },
  {
   "cell_type": "markdown",
   "metadata": {},
   "source": [
    "### Israel"
   ]
  },
  {
   "cell_type": "code",
   "execution_count": 19,
   "metadata": {},
   "outputs": [],
   "source": [
    "df_israel['date'] = pd.to_datetime(df_israel['date'])\n",
    "timestamps = df_israel.date.to_list()\n",
    "texts = df_israel.text_cleaned_2.to_list()"
   ]
  },
  {
   "cell_type": "code",
   "execution_count": null,
   "metadata": {},
   "outputs": [],
   "source": [
    "%pip install umap"
   ]
  },
  {
   "cell_type": "code",
   "execution_count": 20,
   "metadata": {},
   "outputs": [],
   "source": [
    "from umap import UMAP\n",
    "umap_model = UMAP(n_neighbors=15, n_components=5, \n",
    "                  min_dist=0.0, metric='cosine', random_state=42)"
   ]
  },
  {
   "cell_type": "code",
   "execution_count": 21,
   "metadata": {},
   "outputs": [
    {
     "name": "stderr",
     "output_type": "stream",
     "text": [
      "2024-05-22 12:12:59,520 - BERTopic - Embedding - Transforming documents to embeddings.\n",
      "Batches: 100%|██████████| 337/337 [05:54<00:00,  1.05s/it]\n",
      "2024-05-22 12:18:58,226 - BERTopic - Embedding - Completed ✓\n",
      "2024-05-22 12:18:58,227 - BERTopic - Dimensionality - Fitting the dimensionality reduction algorithm\n",
      "2024-05-22 12:19:30,651 - BERTopic - Dimensionality - Completed ✓\n",
      "2024-05-22 12:19:30,654 - BERTopic - Cluster - Start clustering the reduced embeddings\n",
      "2024-05-22 12:19:31,166 - BERTopic - Cluster - Completed ✓\n",
      "2024-05-22 12:19:31,176 - BERTopic - Representation - Extracting topics from clusters using representation models.\n",
      "2024-05-22 12:19:31,992 - BERTopic - Representation - Completed ✓\n"
     ]
    }
   ],
   "source": [
    "topic_model_is = BERTopic(verbose=True, umap_model=umap_model)\n",
    "topics_is, probs_is = topic_model_is.fit_transform(texts)"
   ]
  },
  {
   "cell_type": "code",
   "execution_count": 22,
   "metadata": {},
   "outputs": [
    {
     "name": "stderr",
     "output_type": "stream",
     "text": [
      "45it [00:05,  8.40it/s]\n"
     ]
    }
   ],
   "source": [
    "topics_over_time_is = topic_model_is.topics_over_time(texts, timestamps, nr_bins=45)"
   ]
  },
  {
   "cell_type": "code",
   "execution_count": 23,
   "metadata": {},
   "outputs": [
    {
     "data": {
      "text/html": [
       "<div>\n",
       "<style scoped>\n",
       "    .dataframe tbody tr th:only-of-type {\n",
       "        vertical-align: middle;\n",
       "    }\n",
       "\n",
       "    .dataframe tbody tr th {\n",
       "        vertical-align: top;\n",
       "    }\n",
       "\n",
       "    .dataframe thead th {\n",
       "        text-align: right;\n",
       "    }\n",
       "</style>\n",
       "<table border=\"1\" class=\"dataframe\">\n",
       "  <thead>\n",
       "    <tr style=\"text-align: right;\">\n",
       "      <th></th>\n",
       "      <th>Topic</th>\n",
       "      <th>Count</th>\n",
       "      <th>Name</th>\n",
       "      <th>Representation</th>\n",
       "      <th>Representative_Docs</th>\n",
       "    </tr>\n",
       "  </thead>\n",
       "  <tbody>\n",
       "    <tr>\n",
       "      <th>0</th>\n",
       "      <td>-1</td>\n",
       "      <td>5932</td>\n",
       "      <td>-1_israel_people_have_hamas</td>\n",
       "      <td>[israel, people, have, hamas, palestinians, wa...</td>\n",
       "      <td>[peace plan israel palestine shocked event hap...</td>\n",
       "    </tr>\n",
       "    <tr>\n",
       "      <th>1</th>\n",
       "      <td>0</td>\n",
       "      <td>229</td>\n",
       "      <td>0_anti_zionism_zionist_antisemitic</td>\n",
       "      <td>[anti, zionism, zionist, antisemitic, antisemi...</td>\n",
       "      <td>[zionist mean anti zionist mean wonder time id...</td>\n",
       "    </tr>\n",
       "    <tr>\n",
       "      <th>2</th>\n",
       "      <td>1</td>\n",
       "      <td>223</td>\n",
       "      <td>1_hostage_release_prisoner_hamas</td>\n",
       "      <td>[hostage, release, prisoner, hamas, exchange, ...</td>\n",
       "      <td>[israel release many terrorist israeli hostage...</td>\n",
       "    </tr>\n",
       "    <tr>\n",
       "      <th>3</th>\n",
       "      <td>2</td>\n",
       "      <td>181</td>\n",
       "      <td>2_job_university_moshe_degree</td>\n",
       "      <td>[job, university, moshe, degree, work, ari, st...</td>\n",
       "      <td>[job opportunity computer scientist europe yea...</td>\n",
       "    </tr>\n",
       "    <tr>\n",
       "      <th>4</th>\n",
       "      <td>3</td>\n",
       "      <td>125</td>\n",
       "      <td>3_iran_iranian_nuclear_iranians</td>\n",
       "      <td>[iran, iranian, nuclear, iranians, attack, reg...</td>\n",
       "      <td>[interesting article iran military capability ...</td>\n",
       "    </tr>\n",
       "    <tr>\n",
       "      <th>5</th>\n",
       "      <td>4</td>\n",
       "      <td>119</td>\n",
       "      <td>4_hamas_gaza_israel_destroy</td>\n",
       "      <td>[hamas, gaza, israel, destroy, attack, war, en...</td>\n",
       "      <td>[hamas destroy israel more hamas destroy end c...</td>\n",
       "    </tr>\n",
       "    <tr>\n",
       "      <th>6</th>\n",
       "      <td>5</td>\n",
       "      <td>117</td>\n",
       "      <td>5_sub_ban_subreddit_post</td>\n",
       "      <td>[sub, ban, subreddit, post, comment, moderator...</td>\n",
       "      <td>[help regard reddit sub wish love one side con...</td>\n",
       "    </tr>\n",
       "    <tr>\n",
       "      <th>7</th>\n",
       "      <td>6</td>\n",
       "      <td>116</td>\n",
       "      <td>6_solution_state_bank_west</td>\n",
       "      <td>[solution, state, bank, west, palestinians, bo...</td>\n",
       "      <td>[question palestinians most palestinians belie...</td>\n",
       "    </tr>\n",
       "    <tr>\n",
       "      <th>8</th>\n",
       "      <td>7</td>\n",
       "      <td>88</td>\n",
       "      <td>7_video_evidence_telegram_footage</td>\n",
       "      <td>[video, evidence, telegram, footage, propagand...</td>\n",
       "      <td>[trust bro sutte mean disrespect give link dan...</td>\n",
       "    </tr>\n",
       "    <tr>\n",
       "      <th>9</th>\n",
       "      <td>8</td>\n",
       "      <td>85</td>\n",
       "      <td>8_number_civilian_death_casualty</td>\n",
       "      <td>[number, civilian, death, casualty, kill, hama...</td>\n",
       "      <td>[question israel supporter senior hamas comman...</td>\n",
       "    </tr>\n",
       "    <tr>\n",
       "      <th>10</th>\n",
       "      <td>9</td>\n",
       "      <td>83</td>\n",
       "      <td>9_arab_israelis_arabs_guy</td>\n",
       "      <td>[arab, israelis, arabs, guy, egyptian, israeli...</td>\n",
       "      <td>[israelis think arabs opinion israeli arabs di...</td>\n",
       "    </tr>\n",
       "  </tbody>\n",
       "</table>\n",
       "</div>"
      ],
      "text/plain": [
       "    Topic  Count                                Name  \\\n",
       "0      -1   5932         -1_israel_people_have_hamas   \n",
       "1       0    229  0_anti_zionism_zionist_antisemitic   \n",
       "2       1    223    1_hostage_release_prisoner_hamas   \n",
       "3       2    181       2_job_university_moshe_degree   \n",
       "4       3    125     3_iran_iranian_nuclear_iranians   \n",
       "5       4    119         4_hamas_gaza_israel_destroy   \n",
       "6       5    117            5_sub_ban_subreddit_post   \n",
       "7       6    116          6_solution_state_bank_west   \n",
       "8       7     88   7_video_evidence_telegram_footage   \n",
       "9       8     85    8_number_civilian_death_casualty   \n",
       "10      9     83           9_arab_israelis_arabs_guy   \n",
       "\n",
       "                                       Representation  \\\n",
       "0   [israel, people, have, hamas, palestinians, wa...   \n",
       "1   [anti, zionism, zionist, antisemitic, antisemi...   \n",
       "2   [hostage, release, prisoner, hamas, exchange, ...   \n",
       "3   [job, university, moshe, degree, work, ari, st...   \n",
       "4   [iran, iranian, nuclear, iranians, attack, reg...   \n",
       "5   [hamas, gaza, israel, destroy, attack, war, en...   \n",
       "6   [sub, ban, subreddit, post, comment, moderator...   \n",
       "7   [solution, state, bank, west, palestinians, bo...   \n",
       "8   [video, evidence, telegram, footage, propagand...   \n",
       "9   [number, civilian, death, casualty, kill, hama...   \n",
       "10  [arab, israelis, arabs, guy, egyptian, israeli...   \n",
       "\n",
       "                                  Representative_Docs  \n",
       "0   [peace plan israel palestine shocked event hap...  \n",
       "1   [zionist mean anti zionist mean wonder time id...  \n",
       "2   [israel release many terrorist israeli hostage...  \n",
       "3   [job opportunity computer scientist europe yea...  \n",
       "4   [interesting article iran military capability ...  \n",
       "5   [hamas destroy israel more hamas destroy end c...  \n",
       "6   [help regard reddit sub wish love one side con...  \n",
       "7   [question palestinians most palestinians belie...  \n",
       "8   [trust bro sutte mean disrespect give link dan...  \n",
       "9   [question israel supporter senior hamas comman...  \n",
       "10  [israelis think arabs opinion israeli arabs di...  "
      ]
     },
     "execution_count": 23,
     "metadata": {},
     "output_type": "execute_result"
    }
   ],
   "source": [
    "topic_model_is.get_topic_info().loc[0:10, :]"
   ]
  },
  {
   "cell_type": "code",
   "execution_count": 24,
   "metadata": {},
   "outputs": [
    {
     "data": {
      "application/vnd.plotly.v1+json": {
       "config": {
        "plotlyServerURL": "https://plot.ly"
       },
       "data": [
        {
         "hoverinfo": "text",
         "hovertext": [
          "<b>Topic 0</b><br>Words: antizionist, country, anzionist, anti, overflow",
          "<b>Topic 0</b><br>Words: bar, zionist, tender, nose, anti",
          "<b>Topic 0</b><br>Words: anti, semitism, zionism, antisemitic, zionist",
          "<b>Topic 0</b><br>Words: antisemetism, anti, semitist, zionism, semitism",
          "<b>Topic 0</b><br>Words: zionist, anti, semitic, midddle, stabilishe",
          "<b>Topic 0</b><br>Words: seriousness, prone, needless, depressed, coworker",
          "<b>Topic 0</b><br>Words: russian, grandmother, mother, grandma, father",
          "<b>Topic 0</b><br>Words: realise, proscribe, extremism, condemn, anti",
          "<b>Topic 0</b><br>Words: anti, criticism, antisemitism, zionist, zionism",
          "<b>Topic 0</b><br>Words: zionisim, aryan, nazi, difference, adhere",
          "<b>Topic 0</b><br>Words: semitic, anti, zionism, jews, zionist",
          "<b>Topic 0</b><br>Words: illuminati, anti, antisemitic, offence, antisemitism",
          "<b>Topic 0</b><br>Words: semitic, antisemitic, anti, antissemitism, antizionism",
          "<b>Topic 0</b><br>Words: zionism, antisemitic, anti, zionist, antisemitism",
          "<b>Topic 0</b><br>Words: zionism, zionist, anti, antisemitism, antisemitic",
          "<b>Topic 0</b><br>Words: zionism, anti, antisemitic, antisemitism, zionist",
          "<b>Topic 0</b><br>Words: antisemitic, anti, zionism, semitic, semitism",
          "<b>Topic 0</b><br>Words: zionism, anti, antisemitism, zionist, zionists",
          "<b>Topic 0</b><br>Words: antisemitism, zionism, anti, antisemitic, definition",
          "<b>Topic 0</b><br>Words: antisemitism, anti, zionism, zionist, misunderstanding",
          "<b>Topic 0</b><br>Words: zionism, anti, jews, zionist, antisemitism",
          "<b>Topic 0</b><br>Words: antisemitic, zionist, zionism, antisemitism, anti",
          "<b>Topic 0</b><br>Words: zionism, anti, zionist, antisemitic, jews",
          "<b>Topic 0</b><br>Words: antisemitic, zionist, post, anti, rethoric",
          "<b>Topic 0</b><br>Words: anti, zionist, antisemitism, semitism, correlation",
          "<b>Topic 0</b><br>Words: zionism, antizionism, antisemitic, anti, definition",
          "<b>Topic 0</b><br>Words: neturei, karta, anti, antisemitic, zionist",
          "<b>Topic 0</b><br>Words: definition, zionism, anti, antisemitic, zionist",
          "<b>Topic 0</b><br>Words: anti, antisemitism, zionist, zionism, semitism",
          "<b>Topic 0</b><br>Words: socialist, episode, zionist, zionists, reconcile",
          "<b>Topic 0</b><br>Words: occupation, mean, zionist, irrational, semitic",
          "<b>Topic 0</b><br>Words: iof, politican, osteoporosis, musculoskeletal, list",
          "<b>Topic 0</b><br>Words: database, zionist, radicalize, zionisms, derogatory",
          "<b>Topic 0</b><br>Words: zionism, anti, zionists, zionist, jews",
          "<b>Topic 0</b><br>Words: anti, zionism, zionist, zionists, radicalism",
          "<b>Topic 0</b><br>Words: anti, asian, semitism, society, jews",
          "<b>Topic 0</b><br>Words: anti, antisemitism, zionism, antisemitic, zionist",
          "<b>Topic 0</b><br>Words: zionism, zionist, anti, semitism, judaism",
          "<b>Topic 0</b><br>Words: zionist, zionism, conflate, vocal, anti",
          "<b>Topic 0</b><br>Words: semite, anti, zionism, jews, antizionist"
         ],
         "marker": {
          "color": "#E69F00"
         },
         "mode": "lines",
         "name": "0_anti_zionism_zionist_antisemitic",
         "type": "scatter",
         "x": [
          "2023-06-30T16:42:14.400000",
          "2023-07-07T18:08:00",
          "2023-07-14T12:16:00",
          "2023-07-21T06:24:00",
          "2023-08-03T18:40:00",
          "2023-08-10T12:48:00",
          "2023-08-17T06:56:00",
          "2023-09-20T01:36:00",
          "2023-09-26T19:44:00",
          "2023-10-03T13:52:00",
          "2023-10-10T08:00:00",
          "2023-10-17T02:08:00",
          "2023-10-23T20:16:00",
          "2023-10-30T14:24:00",
          "2023-11-06T08:32:00",
          "2023-11-13T02:40:00",
          "2023-11-19T20:48:00",
          "2023-11-26T14:56:00",
          "2023-12-03T09:04:00",
          "2023-12-10T03:12:00",
          "2023-12-16T21:20:00",
          "2023-12-23T15:28:00",
          "2023-12-30T09:36:00",
          "2024-01-06T03:44:00",
          "2024-01-12T21:52:00",
          "2024-01-19T16:00:00",
          "2024-01-26T10:08:00",
          "2024-02-02T04:16:00",
          "2024-02-08T22:24:00",
          "2024-02-15T16:32:00",
          "2024-02-22T10:40:00",
          "2024-02-29T04:48:00",
          "2024-03-06T22:56:00",
          "2024-03-13T17:04:00",
          "2024-03-20T11:12:00",
          "2024-03-27T05:20:00",
          "2024-04-02T23:28:00",
          "2024-04-09T17:36:00",
          "2024-04-16T11:44:00",
          "2024-04-23T05:52:00"
         ],
         "y": [
          1,
          3,
          2,
          4,
          4,
          2,
          1,
          2,
          3,
          1,
          7,
          5,
          9,
          13,
          19,
          20,
          10,
          10,
          8,
          5,
          7,
          7,
          10,
          5,
          3,
          3,
          6,
          5,
          7,
          3,
          3,
          2,
          4,
          6,
          4,
          5,
          8,
          3,
          5,
          4
         ]
        },
        {
         "hoverinfo": "text",
         "hovertext": [
          "<b>Topic 1</b><br>Words: hostage, thai, bangkok, prisoner, release",
          "<b>Topic 1</b><br>Words: hostage, release, alive, mother, article",
          "<b>Topic 1</b><br>Words: hostage, release, poster, kidnap, aid",
          "<b>Topic 1</b><br>Words: hostage, release, bomb, treat, hamas",
          "<b>Topic 1</b><br>Words: hostage, release, erradicate, hostages, bomb",
          "<b>Topic 1</b><br>Words: hostage, poster, release, prisoner, tear",
          "<b>Topic 1</b><br>Words: hostage, release, rescue, prisoner, poster",
          "<b>Topic 1</b><br>Words: hostage, release, deal, prisoner, hamas",
          "<b>Topic 1</b><br>Words: hostage, release, prisoner, list, alive",
          "<b>Topic 1</b><br>Words: hostage, release, prisoner, exchange, shalit",
          "<b>Topic 1</b><br>Words: hostage, poster, release, cat, body",
          "<b>Topic 1</b><br>Words: hostage, flair, release, prisoner, poster",
          "<b>Topic 1</b><br>Words: hostage, rescue, poster, nyc, megidish",
          "<b>Topic 1</b><br>Words: hostage, torture, release, captivity, rape",
          "<b>Topic 1</b><br>Words: hostage, smuggle, terror, scenario, least",
          "<b>Topic 1</b><br>Words: hostage, release, exchange, prisoner, day",
          "<b>Topic 1</b><br>Words: hostage, release, demand, deal, postwar",
          "<b>Topic 1</b><br>Words: hostage, release, sebutinde, rescue, proceeding",
          "<b>Topic 1</b><br>Words: hostage, medicine, wellbeing, truckloads, unrwa",
          "<b>Topic 1</b><br>Words: hostage, truce, rescue, exchange, release",
          "<b>Topic 1</b><br>Words: hostage, captivity, october, die, body",
          "<b>Topic 1</b><br>Words: hostage, release, listenin, operate, gilad",
          "<b>Topic 1</b><br>Words: tzachi, idan, hostage, polin, goldenberg",
          "<b>Topic 1</b><br>Words: hostage, glazer, sickness, alive, more",
          "<b>Topic 1</b><br>Words: hostage, release, rescue, knock, save",
          "<b>Topic 1</b><br>Words: needy, noncombatant, hostage, ngos, astonishing",
          "<b>Topic 1</b><br>Words: hostage, quis, amet, vel, aliquet",
          "<b>Topic 1</b><br>Words: hostage, release, truck, rafiah, recover",
          "<b>Topic 1</b><br>Words: release, hostage, terrorist, leverage, ratio",
          "<b>Topic 1</b><br>Words: hostage, gameshow, rescue, deal, release"
         ],
         "marker": {
          "color": "#56B4E9"
         },
         "mode": "lines",
         "name": "1_hostage_release_prisoner_hamas",
         "type": "scatter",
         "x": [
          "2023-10-03T13:52:00",
          "2023-10-10T08:00:00",
          "2023-10-17T02:08:00",
          "2023-10-23T20:16:00",
          "2023-10-30T14:24:00",
          "2023-11-06T08:32:00",
          "2023-11-13T02:40:00",
          "2023-11-19T20:48:00",
          "2023-11-26T14:56:00",
          "2023-12-03T09:04:00",
          "2023-12-10T03:12:00",
          "2023-12-16T21:20:00",
          "2023-12-23T15:28:00",
          "2023-12-30T09:36:00",
          "2024-01-06T03:44:00",
          "2024-01-12T21:52:00",
          "2024-01-19T16:00:00",
          "2024-01-26T10:08:00",
          "2024-02-02T04:16:00",
          "2024-02-08T22:24:00",
          "2024-02-15T16:32:00",
          "2024-02-22T10:40:00",
          "2024-02-29T04:48:00",
          "2024-03-06T22:56:00",
          "2024-03-20T11:12:00",
          "2024-03-27T05:20:00",
          "2024-04-02T23:28:00",
          "2024-04-09T17:36:00",
          "2024-04-16T11:44:00",
          "2024-04-23T05:52:00"
         ],
         "y": [
          6,
          9,
          9,
          16,
          9,
          10,
          15,
          38,
          15,
          6,
          7,
          5,
          6,
          3,
          4,
          8,
          6,
          7,
          1,
          7,
          4,
          2,
          1,
          6,
          5,
          1,
          4,
          6,
          1,
          6
         ]
        },
        {
         "hoverinfo": "text",
         "hovertext": [
          "<b>Topic 2</b><br>Words: technion, job, tech, medical, program",
          "<b>Topic 2</b><br>Words: work, salary, job, boss, degree",
          "<b>Topic 2</b><br>Words: university, job, study, developer, insight",
          "<b>Topic 2</b><br>Words: moshe, ari, job, work, hacker",
          "<b>Topic 2</b><br>Words: job, alljobs, pickle, english, speak",
          "<b>Topic 2</b><br>Words: job, bachelor, hire, nursing, salary",
          "<b>Topic 2</b><br>Words: degree, job, atuda, minimum, cyber",
          "<b>Topic 2</b><br>Words: salary, work, hackeru, job, study",
          "<b>Topic 2</b><br>Words: engineer, silicon, architect, physics, valley",
          "<b>Topic 2</b><br>Words: exam, carpentry, mba, program, donts",
          "<b>Topic 2</b><br>Words: internship, veterinarian, enrichment, jinternship, habitat",
          "<b>Topic 2</b><br>Words: university, degree, psychometric, job, study",
          "<b>Topic 2</b><br>Words: aliyah, experience, job, accommodation, work",
          "<b>Topic 2</b><br>Words: job, study, work, master, degree",
          "<b>Topic 2</b><br>Words: internship, university, program, archeology, masters",
          "<b>Topic 2</b><br>Words: bringing, undergrad, ngos, involved, master",
          "<b>Topic 2</b><br>Words: skeyim, hourly, btn, sizi, sizin",
          "<b>Topic 2</b><br>Words: job, dxnker, refund, team, vacancy",
          "<b>Topic 2</b><br>Words: electrician, schabak, work, worker, repatriate",
          "<b>Topic 2</b><br>Words: ulpan, etzion, psychometrics, psychometric, arabic",
          "<b>Topic 2</b><br>Words: aliyah, job, university, degree, attorney",
          "<b>Topic 2</b><br>Words: degree, grow, eduction, druse, dentist",
          "<b>Topic 2</b><br>Words: ulpan, anthropology, degree, study, science",
          "<b>Topic 2</b><br>Words: georgia, university, masa, program, semester",
          "<b>Topic 2</b><br>Words: bagrut, check, company, score, elementary",
          "<b>Topic 2</b><br>Words: job, degree, linkedin, school, experience",
          "<b>Topic 2</b><br>Words: hebrew, radiologist, university, job, study",
          "<b>Topic 2</b><br>Words: cyber, job, market, tutor, skilled",
          "<b>Topic 2</b><br>Words: alumnus, study, tuition, tau, university",
          "<b>Topic 2</b><br>Words: exam, job, english, study, university",
          "<b>Topic 2</b><br>Words: job, hebrew, nefesh, find, hopeless",
          "<b>Topic 2</b><br>Words: job, ulpan, degree, aliyah, mba",
          "<b>Topic 2</b><br>Words: guard, earn, dear, idc, israelites",
          "<b>Topic 2</b><br>Words: december, graduate, aliyah, university, job",
          "<b>Topic 2</b><br>Words: university, haifa, study, master, requirement",
          "<b>Topic 2</b><br>Words: consulting, certification, yael, job, comptia",
          "<b>Topic 2</b><br>Words: degree, azerbaijani, master, bootcamp, job",
          "<b>Topic 2</b><br>Words: program, english, technion, summer, job",
          "<b>Topic 2</b><br>Words: job, salary, alya, experience, hour",
          "<b>Topic 2</b><br>Words: job, ulpan, university, degree, science",
          "<b>Topic 2</b><br>Words: job, ganenet, salary, work, degree",
          "<b>Topic 2</b><br>Words: job, bachelor, masa, work, interview"
         ],
         "marker": {
          "color": "#009E73"
         },
         "mode": "lines",
         "name": "2_job_university_moshe_degree",
         "type": "scatter",
         "x": [
          "2023-06-30T16:42:14.400000",
          "2023-07-07T18:08:00",
          "2023-07-14T12:16:00",
          "2023-07-21T06:24:00",
          "2023-07-28T00:32:00",
          "2023-08-03T18:40:00",
          "2023-08-10T12:48:00",
          "2023-08-17T06:56:00",
          "2023-08-24T01:04:00",
          "2023-08-30T19:12:00",
          "2023-09-06T13:20:00",
          "2023-09-13T07:28:00",
          "2023-09-20T01:36:00",
          "2023-09-26T19:44:00",
          "2023-10-03T13:52:00",
          "2023-10-10T08:00:00",
          "2023-10-17T02:08:00",
          "2023-11-06T08:32:00",
          "2023-11-13T02:40:00",
          "2023-11-19T20:48:00",
          "2023-11-26T14:56:00",
          "2023-12-03T09:04:00",
          "2023-12-10T03:12:00",
          "2023-12-16T21:20:00",
          "2023-12-23T15:28:00",
          "2024-01-06T03:44:00",
          "2024-01-12T21:52:00",
          "2024-01-19T16:00:00",
          "2024-01-26T10:08:00",
          "2024-02-02T04:16:00",
          "2024-02-08T22:24:00",
          "2024-02-15T16:32:00",
          "2024-02-22T10:40:00",
          "2024-02-29T04:48:00",
          "2024-03-06T22:56:00",
          "2024-03-13T17:04:00",
          "2024-03-20T11:12:00",
          "2024-03-27T05:20:00",
          "2024-04-02T23:28:00",
          "2024-04-09T17:36:00",
          "2024-04-16T11:44:00",
          "2024-04-23T05:52:00"
         ],
         "y": [
          7,
          7,
          8,
          5,
          5,
          7,
          5,
          9,
          5,
          3,
          1,
          6,
          4,
          6,
          4,
          1,
          2,
          1,
          3,
          2,
          5,
          1,
          5,
          5,
          2,
          4,
          7,
          5,
          3,
          7,
          2,
          4,
          4,
          2,
          4,
          4,
          3,
          3,
          4,
          7,
          5,
          4
         ]
        },
        {
         "hoverinfo": "text",
         "hovertext": [
          "<b>Topic 3</b><br>Words: radiation, sufficient, nuclear, iran, bomb",
          "<b>Topic 3</b><br>Words: iranians, explainantion, msgs, syria, meet",
          "<b>Topic 3</b><br>Words: iran, iranian, russia, regime, mediterranean",
          "<b>Topic 3</b><br>Words: iran, iranian, shah, russia, attack",
          "<b>Topic 3</b><br>Words: iran, iranian, regime, hezbolah, missile",
          "<b>Topic 3</b><br>Words: iran, khameini, altruism, plo, strained",
          "<b>Topic 3</b><br>Words: iran, iranian, bull, threat, coward",
          "<b>Topic 3</b><br>Words: iran, iranians, regime, iranian, turkey",
          "<b>Topic 3</b><br>Words: nuclear, pakistan, weapon, iran, worried",
          "<b>Topic 3</b><br>Words: iran, china, fritter, cosy, americana",
          "<b>Topic 3</b><br>Words: apocalyptic, isrealis, overthrow, iran, nuclear",
          "<b>Topic 3</b><br>Words: retaliation, argument, say, bad, same",
          "<b>Topic 3</b><br>Words: iran, nuclear, iranian, persia, weapon",
          "<b>Topic 3</b><br>Words: iran, china, pacific, russia, saxon",
          "<b>Topic 3</b><br>Words: proiran, nuke, remind, block, iran",
          "<b>Topic 3</b><br>Words: iran, russia, nuclear, nuke, composure",
          "<b>Topic 3</b><br>Words: iran, newiran, tof, free, shite",
          "<b>Topic 3</b><br>Words: fundamentalism, overthrow, inevitable, system, metastasis",
          "<b>Topic 3</b><br>Words: mullah, iranians, iran, iranian, cyrus",
          "<b>Topic 3</b><br>Words: iran, houthis, mean, overplay, economy",
          "<b>Topic 3</b><br>Words: mullah, iran, iranian, disposessed, mongoloid",
          "<b>Topic 3</b><br>Words: zoroastrianism, iranians, ancient, relate, teach",
          "<b>Topic 3</b><br>Words: iran, zoroastrians, iranians, nuclear, iranian",
          "<b>Topic 3</b><br>Words: iran, disruption, glonass, iranian, missile",
          "<b>Topic 3</b><br>Words: iran, iranian, attack, embassy, missile",
          "<b>Topic 3</b><br>Words: iran, iranian, nuclear, regime, defense",
          "<b>Topic 3</b><br>Words: april, iran, republic, protest, iranian"
         ],
         "marker": {
          "color": "#F0E442"
         },
         "mode": "lines",
         "name": "3_iran_iranian_nuclear_iranians",
         "type": "scatter",
         "x": [
          "2023-08-17T06:56:00",
          "2023-09-26T19:44:00",
          "2023-10-03T13:52:00",
          "2023-10-10T08:00:00",
          "2023-10-17T02:08:00",
          "2023-10-23T20:16:00",
          "2023-10-30T14:24:00",
          "2023-11-06T08:32:00",
          "2023-11-13T02:40:00",
          "2023-11-19T20:48:00",
          "2023-11-26T14:56:00",
          "2023-12-03T09:04:00",
          "2023-12-16T21:20:00",
          "2023-12-30T09:36:00",
          "2024-01-06T03:44:00",
          "2024-01-12T21:52:00",
          "2024-01-26T10:08:00",
          "2024-02-02T04:16:00",
          "2024-02-08T22:24:00",
          "2024-02-22T10:40:00",
          "2024-03-06T22:56:00",
          "2024-03-13T17:04:00",
          "2024-03-20T11:12:00",
          "2024-04-02T23:28:00",
          "2024-04-09T17:36:00",
          "2024-04-16T11:44:00",
          "2024-04-23T05:52:00"
         ],
         "y": [
          1,
          2,
          11,
          7,
          3,
          1,
          3,
          3,
          3,
          1,
          1,
          1,
          8,
          1,
          1,
          3,
          1,
          1,
          1,
          1,
          2,
          1,
          2,
          6,
          49,
          9,
          2
         ]
        }
       ],
       "layout": {
        "height": 450,
        "hoverlabel": {
         "bgcolor": "white",
         "font": {
          "family": "Rockwell",
          "size": 16
         }
        },
        "legend": {
         "title": {
          "text": "<b>Global Topic Representation"
         }
        },
        "template": {
         "data": {
          "bar": [
           {
            "error_x": {
             "color": "rgb(36,36,36)"
            },
            "error_y": {
             "color": "rgb(36,36,36)"
            },
            "marker": {
             "line": {
              "color": "white",
              "width": 0.5
             },
             "pattern": {
              "fillmode": "overlay",
              "size": 10,
              "solidity": 0.2
             }
            },
            "type": "bar"
           }
          ],
          "barpolar": [
           {
            "marker": {
             "line": {
              "color": "white",
              "width": 0.5
             },
             "pattern": {
              "fillmode": "overlay",
              "size": 10,
              "solidity": 0.2
             }
            },
            "type": "barpolar"
           }
          ],
          "carpet": [
           {
            "aaxis": {
             "endlinecolor": "rgb(36,36,36)",
             "gridcolor": "white",
             "linecolor": "white",
             "minorgridcolor": "white",
             "startlinecolor": "rgb(36,36,36)"
            },
            "baxis": {
             "endlinecolor": "rgb(36,36,36)",
             "gridcolor": "white",
             "linecolor": "white",
             "minorgridcolor": "white",
             "startlinecolor": "rgb(36,36,36)"
            },
            "type": "carpet"
           }
          ],
          "choropleth": [
           {
            "colorbar": {
             "outlinewidth": 1,
             "tickcolor": "rgb(36,36,36)",
             "ticks": "outside"
            },
            "type": "choropleth"
           }
          ],
          "contour": [
           {
            "colorbar": {
             "outlinewidth": 1,
             "tickcolor": "rgb(36,36,36)",
             "ticks": "outside"
            },
            "colorscale": [
             [
              0,
              "#440154"
             ],
             [
              0.1111111111111111,
              "#482878"
             ],
             [
              0.2222222222222222,
              "#3e4989"
             ],
             [
              0.3333333333333333,
              "#31688e"
             ],
             [
              0.4444444444444444,
              "#26828e"
             ],
             [
              0.5555555555555556,
              "#1f9e89"
             ],
             [
              0.6666666666666666,
              "#35b779"
             ],
             [
              0.7777777777777778,
              "#6ece58"
             ],
             [
              0.8888888888888888,
              "#b5de2b"
             ],
             [
              1,
              "#fde725"
             ]
            ],
            "type": "contour"
           }
          ],
          "contourcarpet": [
           {
            "colorbar": {
             "outlinewidth": 1,
             "tickcolor": "rgb(36,36,36)",
             "ticks": "outside"
            },
            "type": "contourcarpet"
           }
          ],
          "heatmap": [
           {
            "colorbar": {
             "outlinewidth": 1,
             "tickcolor": "rgb(36,36,36)",
             "ticks": "outside"
            },
            "colorscale": [
             [
              0,
              "#440154"
             ],
             [
              0.1111111111111111,
              "#482878"
             ],
             [
              0.2222222222222222,
              "#3e4989"
             ],
             [
              0.3333333333333333,
              "#31688e"
             ],
             [
              0.4444444444444444,
              "#26828e"
             ],
             [
              0.5555555555555556,
              "#1f9e89"
             ],
             [
              0.6666666666666666,
              "#35b779"
             ],
             [
              0.7777777777777778,
              "#6ece58"
             ],
             [
              0.8888888888888888,
              "#b5de2b"
             ],
             [
              1,
              "#fde725"
             ]
            ],
            "type": "heatmap"
           }
          ],
          "heatmapgl": [
           {
            "colorbar": {
             "outlinewidth": 1,
             "tickcolor": "rgb(36,36,36)",
             "ticks": "outside"
            },
            "colorscale": [
             [
              0,
              "#440154"
             ],
             [
              0.1111111111111111,
              "#482878"
             ],
             [
              0.2222222222222222,
              "#3e4989"
             ],
             [
              0.3333333333333333,
              "#31688e"
             ],
             [
              0.4444444444444444,
              "#26828e"
             ],
             [
              0.5555555555555556,
              "#1f9e89"
             ],
             [
              0.6666666666666666,
              "#35b779"
             ],
             [
              0.7777777777777778,
              "#6ece58"
             ],
             [
              0.8888888888888888,
              "#b5de2b"
             ],
             [
              1,
              "#fde725"
             ]
            ],
            "type": "heatmapgl"
           }
          ],
          "histogram": [
           {
            "marker": {
             "line": {
              "color": "white",
              "width": 0.6
             }
            },
            "type": "histogram"
           }
          ],
          "histogram2d": [
           {
            "colorbar": {
             "outlinewidth": 1,
             "tickcolor": "rgb(36,36,36)",
             "ticks": "outside"
            },
            "colorscale": [
             [
              0,
              "#440154"
             ],
             [
              0.1111111111111111,
              "#482878"
             ],
             [
              0.2222222222222222,
              "#3e4989"
             ],
             [
              0.3333333333333333,
              "#31688e"
             ],
             [
              0.4444444444444444,
              "#26828e"
             ],
             [
              0.5555555555555556,
              "#1f9e89"
             ],
             [
              0.6666666666666666,
              "#35b779"
             ],
             [
              0.7777777777777778,
              "#6ece58"
             ],
             [
              0.8888888888888888,
              "#b5de2b"
             ],
             [
              1,
              "#fde725"
             ]
            ],
            "type": "histogram2d"
           }
          ],
          "histogram2dcontour": [
           {
            "colorbar": {
             "outlinewidth": 1,
             "tickcolor": "rgb(36,36,36)",
             "ticks": "outside"
            },
            "colorscale": [
             [
              0,
              "#440154"
             ],
             [
              0.1111111111111111,
              "#482878"
             ],
             [
              0.2222222222222222,
              "#3e4989"
             ],
             [
              0.3333333333333333,
              "#31688e"
             ],
             [
              0.4444444444444444,
              "#26828e"
             ],
             [
              0.5555555555555556,
              "#1f9e89"
             ],
             [
              0.6666666666666666,
              "#35b779"
             ],
             [
              0.7777777777777778,
              "#6ece58"
             ],
             [
              0.8888888888888888,
              "#b5de2b"
             ],
             [
              1,
              "#fde725"
             ]
            ],
            "type": "histogram2dcontour"
           }
          ],
          "mesh3d": [
           {
            "colorbar": {
             "outlinewidth": 1,
             "tickcolor": "rgb(36,36,36)",
             "ticks": "outside"
            },
            "type": "mesh3d"
           }
          ],
          "parcoords": [
           {
            "line": {
             "colorbar": {
              "outlinewidth": 1,
              "tickcolor": "rgb(36,36,36)",
              "ticks": "outside"
             }
            },
            "type": "parcoords"
           }
          ],
          "pie": [
           {
            "automargin": true,
            "type": "pie"
           }
          ],
          "scatter": [
           {
            "fillpattern": {
             "fillmode": "overlay",
             "size": 10,
             "solidity": 0.2
            },
            "type": "scatter"
           }
          ],
          "scatter3d": [
           {
            "line": {
             "colorbar": {
              "outlinewidth": 1,
              "tickcolor": "rgb(36,36,36)",
              "ticks": "outside"
             }
            },
            "marker": {
             "colorbar": {
              "outlinewidth": 1,
              "tickcolor": "rgb(36,36,36)",
              "ticks": "outside"
             }
            },
            "type": "scatter3d"
           }
          ],
          "scattercarpet": [
           {
            "marker": {
             "colorbar": {
              "outlinewidth": 1,
              "tickcolor": "rgb(36,36,36)",
              "ticks": "outside"
             }
            },
            "type": "scattercarpet"
           }
          ],
          "scattergeo": [
           {
            "marker": {
             "colorbar": {
              "outlinewidth": 1,
              "tickcolor": "rgb(36,36,36)",
              "ticks": "outside"
             }
            },
            "type": "scattergeo"
           }
          ],
          "scattergl": [
           {
            "marker": {
             "colorbar": {
              "outlinewidth": 1,
              "tickcolor": "rgb(36,36,36)",
              "ticks": "outside"
             }
            },
            "type": "scattergl"
           }
          ],
          "scattermapbox": [
           {
            "marker": {
             "colorbar": {
              "outlinewidth": 1,
              "tickcolor": "rgb(36,36,36)",
              "ticks": "outside"
             }
            },
            "type": "scattermapbox"
           }
          ],
          "scatterpolar": [
           {
            "marker": {
             "colorbar": {
              "outlinewidth": 1,
              "tickcolor": "rgb(36,36,36)",
              "ticks": "outside"
             }
            },
            "type": "scatterpolar"
           }
          ],
          "scatterpolargl": [
           {
            "marker": {
             "colorbar": {
              "outlinewidth": 1,
              "tickcolor": "rgb(36,36,36)",
              "ticks": "outside"
             }
            },
            "type": "scatterpolargl"
           }
          ],
          "scatterternary": [
           {
            "marker": {
             "colorbar": {
              "outlinewidth": 1,
              "tickcolor": "rgb(36,36,36)",
              "ticks": "outside"
             }
            },
            "type": "scatterternary"
           }
          ],
          "surface": [
           {
            "colorbar": {
             "outlinewidth": 1,
             "tickcolor": "rgb(36,36,36)",
             "ticks": "outside"
            },
            "colorscale": [
             [
              0,
              "#440154"
             ],
             [
              0.1111111111111111,
              "#482878"
             ],
             [
              0.2222222222222222,
              "#3e4989"
             ],
             [
              0.3333333333333333,
              "#31688e"
             ],
             [
              0.4444444444444444,
              "#26828e"
             ],
             [
              0.5555555555555556,
              "#1f9e89"
             ],
             [
              0.6666666666666666,
              "#35b779"
             ],
             [
              0.7777777777777778,
              "#6ece58"
             ],
             [
              0.8888888888888888,
              "#b5de2b"
             ],
             [
              1,
              "#fde725"
             ]
            ],
            "type": "surface"
           }
          ],
          "table": [
           {
            "cells": {
             "fill": {
              "color": "rgb(237,237,237)"
             },
             "line": {
              "color": "white"
             }
            },
            "header": {
             "fill": {
              "color": "rgb(217,217,217)"
             },
             "line": {
              "color": "white"
             }
            },
            "type": "table"
           }
          ]
         },
         "layout": {
          "annotationdefaults": {
           "arrowhead": 0,
           "arrowwidth": 1
          },
          "autotypenumbers": "strict",
          "coloraxis": {
           "colorbar": {
            "outlinewidth": 1,
            "tickcolor": "rgb(36,36,36)",
            "ticks": "outside"
           }
          },
          "colorscale": {
           "diverging": [
            [
             0,
             "rgb(103,0,31)"
            ],
            [
             0.1,
             "rgb(178,24,43)"
            ],
            [
             0.2,
             "rgb(214,96,77)"
            ],
            [
             0.3,
             "rgb(244,165,130)"
            ],
            [
             0.4,
             "rgb(253,219,199)"
            ],
            [
             0.5,
             "rgb(247,247,247)"
            ],
            [
             0.6,
             "rgb(209,229,240)"
            ],
            [
             0.7,
             "rgb(146,197,222)"
            ],
            [
             0.8,
             "rgb(67,147,195)"
            ],
            [
             0.9,
             "rgb(33,102,172)"
            ],
            [
             1,
             "rgb(5,48,97)"
            ]
           ],
           "sequential": [
            [
             0,
             "#440154"
            ],
            [
             0.1111111111111111,
             "#482878"
            ],
            [
             0.2222222222222222,
             "#3e4989"
            ],
            [
             0.3333333333333333,
             "#31688e"
            ],
            [
             0.4444444444444444,
             "#26828e"
            ],
            [
             0.5555555555555556,
             "#1f9e89"
            ],
            [
             0.6666666666666666,
             "#35b779"
            ],
            [
             0.7777777777777778,
             "#6ece58"
            ],
            [
             0.8888888888888888,
             "#b5de2b"
            ],
            [
             1,
             "#fde725"
            ]
           ],
           "sequentialminus": [
            [
             0,
             "#440154"
            ],
            [
             0.1111111111111111,
             "#482878"
            ],
            [
             0.2222222222222222,
             "#3e4989"
            ],
            [
             0.3333333333333333,
             "#31688e"
            ],
            [
             0.4444444444444444,
             "#26828e"
            ],
            [
             0.5555555555555556,
             "#1f9e89"
            ],
            [
             0.6666666666666666,
             "#35b779"
            ],
            [
             0.7777777777777778,
             "#6ece58"
            ],
            [
             0.8888888888888888,
             "#b5de2b"
            ],
            [
             1,
             "#fde725"
            ]
           ]
          },
          "colorway": [
           "#1F77B4",
           "#FF7F0E",
           "#2CA02C",
           "#D62728",
           "#9467BD",
           "#8C564B",
           "#E377C2",
           "#7F7F7F",
           "#BCBD22",
           "#17BECF"
          ],
          "font": {
           "color": "rgb(36,36,36)"
          },
          "geo": {
           "bgcolor": "white",
           "lakecolor": "white",
           "landcolor": "white",
           "showlakes": true,
           "showland": true,
           "subunitcolor": "white"
          },
          "hoverlabel": {
           "align": "left"
          },
          "hovermode": "closest",
          "mapbox": {
           "style": "light"
          },
          "paper_bgcolor": "white",
          "plot_bgcolor": "white",
          "polar": {
           "angularaxis": {
            "gridcolor": "rgb(232,232,232)",
            "linecolor": "rgb(36,36,36)",
            "showgrid": false,
            "showline": true,
            "ticks": "outside"
           },
           "bgcolor": "white",
           "radialaxis": {
            "gridcolor": "rgb(232,232,232)",
            "linecolor": "rgb(36,36,36)",
            "showgrid": false,
            "showline": true,
            "ticks": "outside"
           }
          },
          "scene": {
           "xaxis": {
            "backgroundcolor": "white",
            "gridcolor": "rgb(232,232,232)",
            "gridwidth": 2,
            "linecolor": "rgb(36,36,36)",
            "showbackground": true,
            "showgrid": false,
            "showline": true,
            "ticks": "outside",
            "zeroline": false,
            "zerolinecolor": "rgb(36,36,36)"
           },
           "yaxis": {
            "backgroundcolor": "white",
            "gridcolor": "rgb(232,232,232)",
            "gridwidth": 2,
            "linecolor": "rgb(36,36,36)",
            "showbackground": true,
            "showgrid": false,
            "showline": true,
            "ticks": "outside",
            "zeroline": false,
            "zerolinecolor": "rgb(36,36,36)"
           },
           "zaxis": {
            "backgroundcolor": "white",
            "gridcolor": "rgb(232,232,232)",
            "gridwidth": 2,
            "linecolor": "rgb(36,36,36)",
            "showbackground": true,
            "showgrid": false,
            "showline": true,
            "ticks": "outside",
            "zeroline": false,
            "zerolinecolor": "rgb(36,36,36)"
           }
          },
          "shapedefaults": {
           "fillcolor": "black",
           "line": {
            "width": 0
           },
           "opacity": 0.3
          },
          "ternary": {
           "aaxis": {
            "gridcolor": "rgb(232,232,232)",
            "linecolor": "rgb(36,36,36)",
            "showgrid": false,
            "showline": true,
            "ticks": "outside"
           },
           "baxis": {
            "gridcolor": "rgb(232,232,232)",
            "linecolor": "rgb(36,36,36)",
            "showgrid": false,
            "showline": true,
            "ticks": "outside"
           },
           "bgcolor": "white",
           "caxis": {
            "gridcolor": "rgb(232,232,232)",
            "linecolor": "rgb(36,36,36)",
            "showgrid": false,
            "showline": true,
            "ticks": "outside"
           }
          },
          "title": {
           "x": 0.05
          },
          "xaxis": {
           "automargin": true,
           "gridcolor": "rgb(232,232,232)",
           "linecolor": "rgb(36,36,36)",
           "showgrid": false,
           "showline": true,
           "ticks": "outside",
           "title": {
            "standoff": 15
           },
           "zeroline": false,
           "zerolinecolor": "rgb(36,36,36)"
          },
          "yaxis": {
           "automargin": true,
           "gridcolor": "rgb(232,232,232)",
           "linecolor": "rgb(36,36,36)",
           "showgrid": false,
           "showline": true,
           "ticks": "outside",
           "title": {
            "standoff": 15
           },
           "zeroline": false,
           "zerolinecolor": "rgb(36,36,36)"
          }
         }
        },
        "title": {
         "font": {
          "color": "Black",
          "size": 22
         },
         "text": "<b>Topics over Time</b>",
         "x": 0.4,
         "xanchor": "center",
         "y": 0.95,
         "yanchor": "top"
        },
        "width": 1250,
        "xaxis": {
         "showgrid": true
        },
        "yaxis": {
         "showgrid": true,
         "title": {
          "text": "Frequency"
         }
        }
       }
      }
     },
     "metadata": {},
     "output_type": "display_data"
    }
   ],
   "source": [
    "topic_model_is.visualize_topics_over_time(topics_over_time_is, topics=[0, 1, 2, 3])"
   ]
  },
  {
   "cell_type": "code",
   "execution_count": 25,
   "metadata": {},
   "outputs": [
    {
     "data": {
      "application/vnd.plotly.v1+json": {
       "config": {
        "plotlyServerURL": "https://plot.ly"
       },
       "data": [
        {
         "hoverinfo": "text",
         "hovertext": [
          "<b>Topic 0</b><br>Words: antizionist, country, anzionist, anti, overflow",
          "<b>Topic 0</b><br>Words: bar, zionist, tender, nose, anti",
          "<b>Topic 0</b><br>Words: anti, semitism, zionism, antisemitic, zionist",
          "<b>Topic 0</b><br>Words: antisemetism, anti, semitist, zionism, semitism",
          "<b>Topic 0</b><br>Words: zionist, anti, semitic, midddle, stabilishe",
          "<b>Topic 0</b><br>Words: seriousness, prone, needless, depressed, coworker",
          "<b>Topic 0</b><br>Words: russian, grandmother, mother, grandma, father",
          "<b>Topic 0</b><br>Words: realise, proscribe, extremism, condemn, anti",
          "<b>Topic 0</b><br>Words: anti, criticism, antisemitism, zionist, zionism",
          "<b>Topic 0</b><br>Words: zionisim, aryan, nazi, difference, adhere",
          "<b>Topic 0</b><br>Words: semitic, anti, zionism, jews, zionist",
          "<b>Topic 0</b><br>Words: illuminati, anti, antisemitic, offence, antisemitism",
          "<b>Topic 0</b><br>Words: semitic, antisemitic, anti, antissemitism, antizionism",
          "<b>Topic 0</b><br>Words: zionism, antisemitic, anti, zionist, antisemitism",
          "<b>Topic 0</b><br>Words: zionism, zionist, anti, antisemitism, antisemitic",
          "<b>Topic 0</b><br>Words: zionism, anti, antisemitic, antisemitism, zionist",
          "<b>Topic 0</b><br>Words: antisemitic, anti, zionism, semitic, semitism",
          "<b>Topic 0</b><br>Words: zionism, anti, antisemitism, zionist, zionists",
          "<b>Topic 0</b><br>Words: antisemitism, zionism, anti, antisemitic, definition",
          "<b>Topic 0</b><br>Words: antisemitism, anti, zionism, zionist, misunderstanding",
          "<b>Topic 0</b><br>Words: zionism, anti, jews, zionist, antisemitism",
          "<b>Topic 0</b><br>Words: antisemitic, zionist, zionism, antisemitism, anti",
          "<b>Topic 0</b><br>Words: zionism, anti, zionist, antisemitic, jews",
          "<b>Topic 0</b><br>Words: antisemitic, zionist, post, anti, rethoric",
          "<b>Topic 0</b><br>Words: anti, zionist, antisemitism, semitism, correlation",
          "<b>Topic 0</b><br>Words: zionism, antizionism, antisemitic, anti, definition",
          "<b>Topic 0</b><br>Words: neturei, karta, anti, antisemitic, zionist",
          "<b>Topic 0</b><br>Words: definition, zionism, anti, antisemitic, zionist",
          "<b>Topic 0</b><br>Words: anti, antisemitism, zionist, zionism, semitism",
          "<b>Topic 0</b><br>Words: socialist, episode, zionist, zionists, reconcile",
          "<b>Topic 0</b><br>Words: occupation, mean, zionist, irrational, semitic",
          "<b>Topic 0</b><br>Words: iof, politican, osteoporosis, musculoskeletal, list",
          "<b>Topic 0</b><br>Words: database, zionist, radicalize, zionisms, derogatory",
          "<b>Topic 0</b><br>Words: zionism, anti, zionists, zionist, jews",
          "<b>Topic 0</b><br>Words: anti, zionism, zionist, zionists, radicalism",
          "<b>Topic 0</b><br>Words: anti, asian, semitism, society, jews",
          "<b>Topic 0</b><br>Words: anti, antisemitism, zionism, antisemitic, zionist",
          "<b>Topic 0</b><br>Words: zionism, zionist, anti, semitism, judaism",
          "<b>Topic 0</b><br>Words: zionist, zionism, conflate, vocal, anti",
          "<b>Topic 0</b><br>Words: semite, anti, zionism, jews, antizionist"
         ],
         "marker": {
          "color": "#E69F00"
         },
         "mode": "lines",
         "name": "0_anti_zionism_zionist_antisemitic",
         "type": "scatter",
         "x": [
          "2023-06-30T16:42:14.400000",
          "2023-07-07T18:08:00",
          "2023-07-14T12:16:00",
          "2023-07-21T06:24:00",
          "2023-08-03T18:40:00",
          "2023-08-10T12:48:00",
          "2023-08-17T06:56:00",
          "2023-09-20T01:36:00",
          "2023-09-26T19:44:00",
          "2023-10-03T13:52:00",
          "2023-10-10T08:00:00",
          "2023-10-17T02:08:00",
          "2023-10-23T20:16:00",
          "2023-10-30T14:24:00",
          "2023-11-06T08:32:00",
          "2023-11-13T02:40:00",
          "2023-11-19T20:48:00",
          "2023-11-26T14:56:00",
          "2023-12-03T09:04:00",
          "2023-12-10T03:12:00",
          "2023-12-16T21:20:00",
          "2023-12-23T15:28:00",
          "2023-12-30T09:36:00",
          "2024-01-06T03:44:00",
          "2024-01-12T21:52:00",
          "2024-01-19T16:00:00",
          "2024-01-26T10:08:00",
          "2024-02-02T04:16:00",
          "2024-02-08T22:24:00",
          "2024-02-15T16:32:00",
          "2024-02-22T10:40:00",
          "2024-02-29T04:48:00",
          "2024-03-06T22:56:00",
          "2024-03-13T17:04:00",
          "2024-03-20T11:12:00",
          "2024-03-27T05:20:00",
          "2024-04-02T23:28:00",
          "2024-04-09T17:36:00",
          "2024-04-16T11:44:00",
          "2024-04-23T05:52:00"
         ],
         "y": [
          0.02225521737361166,
          0.06676565212083499,
          0.04451043474722332,
          0.08902086949444664,
          0.08902086949444664,
          0.04451043474722332,
          0.02225521737361166,
          0.04451043474722332,
          0.06676565212083499,
          0.02225521737361166,
          0.15578652161528161,
          0.1112760868680583,
          0.20029695636250494,
          0.2893178258569516,
          0.4228491300986216,
          0.4451043474722332,
          0.2225521737361166,
          0.2225521737361166,
          0.17804173898889328,
          0.1112760868680583,
          0.15578652161528161,
          0.15578652161528161,
          0.2225521737361166,
          0.1112760868680583,
          0.06676565212083499,
          0.06676565212083499,
          0.13353130424166998,
          0.1112760868680583,
          0.15578652161528161,
          0.06676565212083499,
          0.06676565212083499,
          0.04451043474722332,
          0.08902086949444664,
          0.13353130424166998,
          0.08902086949444664,
          0.1112760868680583,
          0.17804173898889328,
          0.06676565212083499,
          0.1112760868680583,
          0.08902086949444664
         ]
        },
        {
         "hoverinfo": "text",
         "hovertext": [
          "<b>Topic 1</b><br>Words: hostage, thai, bangkok, prisoner, release",
          "<b>Topic 1</b><br>Words: hostage, release, alive, mother, article",
          "<b>Topic 1</b><br>Words: hostage, release, poster, kidnap, aid",
          "<b>Topic 1</b><br>Words: hostage, release, bomb, treat, hamas",
          "<b>Topic 1</b><br>Words: hostage, release, erradicate, hostages, bomb",
          "<b>Topic 1</b><br>Words: hostage, poster, release, prisoner, tear",
          "<b>Topic 1</b><br>Words: hostage, release, rescue, prisoner, poster",
          "<b>Topic 1</b><br>Words: hostage, release, deal, prisoner, hamas",
          "<b>Topic 1</b><br>Words: hostage, release, prisoner, list, alive",
          "<b>Topic 1</b><br>Words: hostage, release, prisoner, exchange, shalit",
          "<b>Topic 1</b><br>Words: hostage, poster, release, cat, body",
          "<b>Topic 1</b><br>Words: hostage, flair, release, prisoner, poster",
          "<b>Topic 1</b><br>Words: hostage, rescue, poster, nyc, megidish",
          "<b>Topic 1</b><br>Words: hostage, torture, release, captivity, rape",
          "<b>Topic 1</b><br>Words: hostage, smuggle, terror, scenario, least",
          "<b>Topic 1</b><br>Words: hostage, release, exchange, prisoner, day",
          "<b>Topic 1</b><br>Words: hostage, release, demand, deal, postwar",
          "<b>Topic 1</b><br>Words: hostage, release, sebutinde, rescue, proceeding",
          "<b>Topic 1</b><br>Words: hostage, medicine, wellbeing, truckloads, unrwa",
          "<b>Topic 1</b><br>Words: hostage, truce, rescue, exchange, release",
          "<b>Topic 1</b><br>Words: hostage, captivity, october, die, body",
          "<b>Topic 1</b><br>Words: hostage, release, listenin, operate, gilad",
          "<b>Topic 1</b><br>Words: tzachi, idan, hostage, polin, goldenberg",
          "<b>Topic 1</b><br>Words: hostage, glazer, sickness, alive, more",
          "<b>Topic 1</b><br>Words: hostage, release, rescue, knock, save",
          "<b>Topic 1</b><br>Words: needy, noncombatant, hostage, ngos, astonishing",
          "<b>Topic 1</b><br>Words: hostage, quis, amet, vel, aliquet",
          "<b>Topic 1</b><br>Words: hostage, release, truck, rafiah, recover",
          "<b>Topic 1</b><br>Words: release, hostage, terrorist, leverage, ratio",
          "<b>Topic 1</b><br>Words: hostage, gameshow, rescue, deal, release"
         ],
         "marker": {
          "color": "#56B4E9"
         },
         "mode": "lines",
         "name": "1_hostage_release_prisoner_hamas",
         "type": "scatter",
         "x": [
          "2023-10-03T13:52:00",
          "2023-10-10T08:00:00",
          "2023-10-17T02:08:00",
          "2023-10-23T20:16:00",
          "2023-10-30T14:24:00",
          "2023-11-06T08:32:00",
          "2023-11-13T02:40:00",
          "2023-11-19T20:48:00",
          "2023-11-26T14:56:00",
          "2023-12-03T09:04:00",
          "2023-12-10T03:12:00",
          "2023-12-16T21:20:00",
          "2023-12-23T15:28:00",
          "2023-12-30T09:36:00",
          "2024-01-06T03:44:00",
          "2024-01-12T21:52:00",
          "2024-01-19T16:00:00",
          "2024-01-26T10:08:00",
          "2024-02-02T04:16:00",
          "2024-02-08T22:24:00",
          "2024-02-15T16:32:00",
          "2024-02-22T10:40:00",
          "2024-02-29T04:48:00",
          "2024-03-06T22:56:00",
          "2024-03-20T11:12:00",
          "2024-03-27T05:20:00",
          "2024-04-02T23:28:00",
          "2024-04-09T17:36:00",
          "2024-04-16T11:44:00",
          "2024-04-23T05:52:00"
         ],
         "y": [
          0.10827079910776224,
          0.16240619866164335,
          0.16240619866164335,
          0.28872213095403265,
          0.16240619866164335,
          0.1804513318462704,
          0.2706769977694056,
          0.6857150610158276,
          0.2706769977694056,
          0.10827079910776224,
          0.12631593229238927,
          0.0902256659231352,
          0.10827079910776224,
          0.05413539955388112,
          0.07218053273850816,
          0.14436106547701633,
          0.10827079910776224,
          0.12631593229238927,
          0.01804513318462704,
          0.12631593229238927,
          0.07218053273850816,
          0.03609026636925408,
          0.01804513318462704,
          0.10827079910776224,
          0.0902256659231352,
          0.01804513318462704,
          0.07218053273850816,
          0.10827079910776224,
          0.01804513318462704,
          0.10827079910776224
         ]
        },
        {
         "hoverinfo": "text",
         "hovertext": [
          "<b>Topic 2</b><br>Words: technion, job, tech, medical, program",
          "<b>Topic 2</b><br>Words: work, salary, job, boss, degree",
          "<b>Topic 2</b><br>Words: university, job, study, developer, insight",
          "<b>Topic 2</b><br>Words: moshe, ari, job, work, hacker",
          "<b>Topic 2</b><br>Words: job, alljobs, pickle, english, speak",
          "<b>Topic 2</b><br>Words: job, bachelor, hire, nursing, salary",
          "<b>Topic 2</b><br>Words: degree, job, atuda, minimum, cyber",
          "<b>Topic 2</b><br>Words: salary, work, hackeru, job, study",
          "<b>Topic 2</b><br>Words: engineer, silicon, architect, physics, valley",
          "<b>Topic 2</b><br>Words: exam, carpentry, mba, program, donts",
          "<b>Topic 2</b><br>Words: internship, veterinarian, enrichment, jinternship, habitat",
          "<b>Topic 2</b><br>Words: university, degree, psychometric, job, study",
          "<b>Topic 2</b><br>Words: aliyah, experience, job, accommodation, work",
          "<b>Topic 2</b><br>Words: job, study, work, master, degree",
          "<b>Topic 2</b><br>Words: internship, university, program, archeology, masters",
          "<b>Topic 2</b><br>Words: bringing, undergrad, ngos, involved, master",
          "<b>Topic 2</b><br>Words: skeyim, hourly, btn, sizi, sizin",
          "<b>Topic 2</b><br>Words: job, dxnker, refund, team, vacancy",
          "<b>Topic 2</b><br>Words: electrician, schabak, work, worker, repatriate",
          "<b>Topic 2</b><br>Words: ulpan, etzion, psychometrics, psychometric, arabic",
          "<b>Topic 2</b><br>Words: aliyah, job, university, degree, attorney",
          "<b>Topic 2</b><br>Words: degree, grow, eduction, druse, dentist",
          "<b>Topic 2</b><br>Words: ulpan, anthropology, degree, study, science",
          "<b>Topic 2</b><br>Words: georgia, university, masa, program, semester",
          "<b>Topic 2</b><br>Words: bagrut, check, company, score, elementary",
          "<b>Topic 2</b><br>Words: job, degree, linkedin, school, experience",
          "<b>Topic 2</b><br>Words: hebrew, radiologist, university, job, study",
          "<b>Topic 2</b><br>Words: cyber, job, market, tutor, skilled",
          "<b>Topic 2</b><br>Words: alumnus, study, tuition, tau, university",
          "<b>Topic 2</b><br>Words: exam, job, english, study, university",
          "<b>Topic 2</b><br>Words: job, hebrew, nefesh, find, hopeless",
          "<b>Topic 2</b><br>Words: job, ulpan, degree, aliyah, mba",
          "<b>Topic 2</b><br>Words: guard, earn, dear, idc, israelites",
          "<b>Topic 2</b><br>Words: december, graduate, aliyah, university, job",
          "<b>Topic 2</b><br>Words: university, haifa, study, master, requirement",
          "<b>Topic 2</b><br>Words: consulting, certification, yael, job, comptia",
          "<b>Topic 2</b><br>Words: degree, azerbaijani, master, bootcamp, job",
          "<b>Topic 2</b><br>Words: program, english, technion, summer, job",
          "<b>Topic 2</b><br>Words: job, salary, alya, experience, hour",
          "<b>Topic 2</b><br>Words: job, ulpan, university, degree, science",
          "<b>Topic 2</b><br>Words: job, ganenet, salary, work, degree",
          "<b>Topic 2</b><br>Words: job, bachelor, masa, work, interview"
         ],
         "marker": {
          "color": "#009E73"
         },
         "mode": "lines",
         "name": "2_job_university_moshe_degree",
         "type": "scatter",
         "x": [
          "2023-06-30T16:42:14.400000",
          "2023-07-07T18:08:00",
          "2023-07-14T12:16:00",
          "2023-07-21T06:24:00",
          "2023-07-28T00:32:00",
          "2023-08-03T18:40:00",
          "2023-08-10T12:48:00",
          "2023-08-17T06:56:00",
          "2023-08-24T01:04:00",
          "2023-08-30T19:12:00",
          "2023-09-06T13:20:00",
          "2023-09-13T07:28:00",
          "2023-09-20T01:36:00",
          "2023-09-26T19:44:00",
          "2023-10-03T13:52:00",
          "2023-10-10T08:00:00",
          "2023-10-17T02:08:00",
          "2023-11-06T08:32:00",
          "2023-11-13T02:40:00",
          "2023-11-19T20:48:00",
          "2023-11-26T14:56:00",
          "2023-12-03T09:04:00",
          "2023-12-10T03:12:00",
          "2023-12-16T21:20:00",
          "2023-12-23T15:28:00",
          "2024-01-06T03:44:00",
          "2024-01-12T21:52:00",
          "2024-01-19T16:00:00",
          "2024-01-26T10:08:00",
          "2024-02-02T04:16:00",
          "2024-02-08T22:24:00",
          "2024-02-15T16:32:00",
          "2024-02-22T10:40:00",
          "2024-02-29T04:48:00",
          "2024-03-06T22:56:00",
          "2024-03-13T17:04:00",
          "2024-03-20T11:12:00",
          "2024-03-27T05:20:00",
          "2024-04-02T23:28:00",
          "2024-04-09T17:36:00",
          "2024-04-16T11:44:00",
          "2024-04-23T05:52:00"
         ],
         "y": [
          0.2272296156064184,
          0.2272296156064184,
          0.2596909892644782,
          0.16230686829029886,
          0.16230686829029886,
          0.2272296156064184,
          0.16230686829029886,
          0.292152362922538,
          0.16230686829029886,
          0.09738412097417933,
          0.032461373658059775,
          0.19476824194835865,
          0.1298454946322391,
          0.19476824194835865,
          0.1298454946322391,
          0.032461373658059775,
          0.06492274731611955,
          0.032461373658059775,
          0.09738412097417933,
          0.06492274731611955,
          0.16230686829029886,
          0.032461373658059775,
          0.16230686829029886,
          0.16230686829029886,
          0.06492274731611955,
          0.1298454946322391,
          0.2272296156064184,
          0.16230686829029886,
          0.09738412097417933,
          0.2272296156064184,
          0.06492274731611955,
          0.1298454946322391,
          0.1298454946322391,
          0.06492274731611955,
          0.1298454946322391,
          0.1298454946322391,
          0.09738412097417933,
          0.09738412097417933,
          0.1298454946322391,
          0.2272296156064184,
          0.16230686829029886,
          0.1298454946322391
         ]
        },
        {
         "hoverinfo": "text",
         "hovertext": [
          "<b>Topic 3</b><br>Words: radiation, sufficient, nuclear, iran, bomb",
          "<b>Topic 3</b><br>Words: iranians, explainantion, msgs, syria, meet",
          "<b>Topic 3</b><br>Words: iran, iranian, russia, regime, mediterranean",
          "<b>Topic 3</b><br>Words: iran, iranian, shah, russia, attack",
          "<b>Topic 3</b><br>Words: iran, iranian, regime, hezbolah, missile",
          "<b>Topic 3</b><br>Words: iran, khameini, altruism, plo, strained",
          "<b>Topic 3</b><br>Words: iran, iranian, bull, threat, coward",
          "<b>Topic 3</b><br>Words: iran, iranians, regime, iranian, turkey",
          "<b>Topic 3</b><br>Words: nuclear, pakistan, weapon, iran, worried",
          "<b>Topic 3</b><br>Words: iran, china, fritter, cosy, americana",
          "<b>Topic 3</b><br>Words: apocalyptic, isrealis, overthrow, iran, nuclear",
          "<b>Topic 3</b><br>Words: retaliation, argument, say, bad, same",
          "<b>Topic 3</b><br>Words: iran, nuclear, iranian, persia, weapon",
          "<b>Topic 3</b><br>Words: iran, china, pacific, russia, saxon",
          "<b>Topic 3</b><br>Words: proiran, nuke, remind, block, iran",
          "<b>Topic 3</b><br>Words: iran, russia, nuclear, nuke, composure",
          "<b>Topic 3</b><br>Words: iran, newiran, tof, free, shite",
          "<b>Topic 3</b><br>Words: fundamentalism, overthrow, inevitable, system, metastasis",
          "<b>Topic 3</b><br>Words: mullah, iranians, iran, iranian, cyrus",
          "<b>Topic 3</b><br>Words: iran, houthis, mean, overplay, economy",
          "<b>Topic 3</b><br>Words: mullah, iran, iranian, disposessed, mongoloid",
          "<b>Topic 3</b><br>Words: zoroastrianism, iranians, ancient, relate, teach",
          "<b>Topic 3</b><br>Words: iran, zoroastrians, iranians, nuclear, iranian",
          "<b>Topic 3</b><br>Words: iran, disruption, glonass, iranian, missile",
          "<b>Topic 3</b><br>Words: iran, iranian, attack, embassy, missile",
          "<b>Topic 3</b><br>Words: iran, iranian, nuclear, regime, defense",
          "<b>Topic 3</b><br>Words: april, iran, republic, protest, iranian"
         ],
         "marker": {
          "color": "#F0E442"
         },
         "mode": "lines",
         "name": "3_iran_iranian_nuclear_iranians",
         "type": "scatter",
         "x": [
          "2023-08-17T06:56:00",
          "2023-09-26T19:44:00",
          "2023-10-03T13:52:00",
          "2023-10-10T08:00:00",
          "2023-10-17T02:08:00",
          "2023-10-23T20:16:00",
          "2023-10-30T14:24:00",
          "2023-11-06T08:32:00",
          "2023-11-13T02:40:00",
          "2023-11-19T20:48:00",
          "2023-11-26T14:56:00",
          "2023-12-03T09:04:00",
          "2023-12-16T21:20:00",
          "2023-12-30T09:36:00",
          "2024-01-06T03:44:00",
          "2024-01-12T21:52:00",
          "2024-01-26T10:08:00",
          "2024-02-02T04:16:00",
          "2024-02-08T22:24:00",
          "2024-02-22T10:40:00",
          "2024-03-06T22:56:00",
          "2024-03-13T17:04:00",
          "2024-03-20T11:12:00",
          "2024-04-02T23:28:00",
          "2024-04-09T17:36:00",
          "2024-04-16T11:44:00",
          "2024-04-23T05:52:00"
         ],
         "y": [
          0.018814417367671945,
          0.03762883473534389,
          0.2069585910443914,
          0.1317009215737036,
          0.05644325210301584,
          0.018814417367671945,
          0.05644325210301584,
          0.05644325210301584,
          0.05644325210301584,
          0.018814417367671945,
          0.018814417367671945,
          0.018814417367671945,
          0.15051533894137556,
          0.018814417367671945,
          0.018814417367671945,
          0.05644325210301584,
          0.018814417367671945,
          0.018814417367671945,
          0.018814417367671945,
          0.018814417367671945,
          0.03762883473534389,
          0.018814417367671945,
          0.03762883473534389,
          0.11288650420603168,
          0.9219064510159254,
          0.1693297563090475,
          0.03762883473534389
         ]
        }
       ],
       "layout": {
        "height": 450,
        "hoverlabel": {
         "bgcolor": "white",
         "font": {
          "family": "Rockwell",
          "size": 16
         }
        },
        "legend": {
         "title": {
          "text": "<b>Global Topic Representation"
         }
        },
        "template": {
         "data": {
          "bar": [
           {
            "error_x": {
             "color": "rgb(36,36,36)"
            },
            "error_y": {
             "color": "rgb(36,36,36)"
            },
            "marker": {
             "line": {
              "color": "white",
              "width": 0.5
             },
             "pattern": {
              "fillmode": "overlay",
              "size": 10,
              "solidity": 0.2
             }
            },
            "type": "bar"
           }
          ],
          "barpolar": [
           {
            "marker": {
             "line": {
              "color": "white",
              "width": 0.5
             },
             "pattern": {
              "fillmode": "overlay",
              "size": 10,
              "solidity": 0.2
             }
            },
            "type": "barpolar"
           }
          ],
          "carpet": [
           {
            "aaxis": {
             "endlinecolor": "rgb(36,36,36)",
             "gridcolor": "white",
             "linecolor": "white",
             "minorgridcolor": "white",
             "startlinecolor": "rgb(36,36,36)"
            },
            "baxis": {
             "endlinecolor": "rgb(36,36,36)",
             "gridcolor": "white",
             "linecolor": "white",
             "minorgridcolor": "white",
             "startlinecolor": "rgb(36,36,36)"
            },
            "type": "carpet"
           }
          ],
          "choropleth": [
           {
            "colorbar": {
             "outlinewidth": 1,
             "tickcolor": "rgb(36,36,36)",
             "ticks": "outside"
            },
            "type": "choropleth"
           }
          ],
          "contour": [
           {
            "colorbar": {
             "outlinewidth": 1,
             "tickcolor": "rgb(36,36,36)",
             "ticks": "outside"
            },
            "colorscale": [
             [
              0,
              "#440154"
             ],
             [
              0.1111111111111111,
              "#482878"
             ],
             [
              0.2222222222222222,
              "#3e4989"
             ],
             [
              0.3333333333333333,
              "#31688e"
             ],
             [
              0.4444444444444444,
              "#26828e"
             ],
             [
              0.5555555555555556,
              "#1f9e89"
             ],
             [
              0.6666666666666666,
              "#35b779"
             ],
             [
              0.7777777777777778,
              "#6ece58"
             ],
             [
              0.8888888888888888,
              "#b5de2b"
             ],
             [
              1,
              "#fde725"
             ]
            ],
            "type": "contour"
           }
          ],
          "contourcarpet": [
           {
            "colorbar": {
             "outlinewidth": 1,
             "tickcolor": "rgb(36,36,36)",
             "ticks": "outside"
            },
            "type": "contourcarpet"
           }
          ],
          "heatmap": [
           {
            "colorbar": {
             "outlinewidth": 1,
             "tickcolor": "rgb(36,36,36)",
             "ticks": "outside"
            },
            "colorscale": [
             [
              0,
              "#440154"
             ],
             [
              0.1111111111111111,
              "#482878"
             ],
             [
              0.2222222222222222,
              "#3e4989"
             ],
             [
              0.3333333333333333,
              "#31688e"
             ],
             [
              0.4444444444444444,
              "#26828e"
             ],
             [
              0.5555555555555556,
              "#1f9e89"
             ],
             [
              0.6666666666666666,
              "#35b779"
             ],
             [
              0.7777777777777778,
              "#6ece58"
             ],
             [
              0.8888888888888888,
              "#b5de2b"
             ],
             [
              1,
              "#fde725"
             ]
            ],
            "type": "heatmap"
           }
          ],
          "heatmapgl": [
           {
            "colorbar": {
             "outlinewidth": 1,
             "tickcolor": "rgb(36,36,36)",
             "ticks": "outside"
            },
            "colorscale": [
             [
              0,
              "#440154"
             ],
             [
              0.1111111111111111,
              "#482878"
             ],
             [
              0.2222222222222222,
              "#3e4989"
             ],
             [
              0.3333333333333333,
              "#31688e"
             ],
             [
              0.4444444444444444,
              "#26828e"
             ],
             [
              0.5555555555555556,
              "#1f9e89"
             ],
             [
              0.6666666666666666,
              "#35b779"
             ],
             [
              0.7777777777777778,
              "#6ece58"
             ],
             [
              0.8888888888888888,
              "#b5de2b"
             ],
             [
              1,
              "#fde725"
             ]
            ],
            "type": "heatmapgl"
           }
          ],
          "histogram": [
           {
            "marker": {
             "line": {
              "color": "white",
              "width": 0.6
             }
            },
            "type": "histogram"
           }
          ],
          "histogram2d": [
           {
            "colorbar": {
             "outlinewidth": 1,
             "tickcolor": "rgb(36,36,36)",
             "ticks": "outside"
            },
            "colorscale": [
             [
              0,
              "#440154"
             ],
             [
              0.1111111111111111,
              "#482878"
             ],
             [
              0.2222222222222222,
              "#3e4989"
             ],
             [
              0.3333333333333333,
              "#31688e"
             ],
             [
              0.4444444444444444,
              "#26828e"
             ],
             [
              0.5555555555555556,
              "#1f9e89"
             ],
             [
              0.6666666666666666,
              "#35b779"
             ],
             [
              0.7777777777777778,
              "#6ece58"
             ],
             [
              0.8888888888888888,
              "#b5de2b"
             ],
             [
              1,
              "#fde725"
             ]
            ],
            "type": "histogram2d"
           }
          ],
          "histogram2dcontour": [
           {
            "colorbar": {
             "outlinewidth": 1,
             "tickcolor": "rgb(36,36,36)",
             "ticks": "outside"
            },
            "colorscale": [
             [
              0,
              "#440154"
             ],
             [
              0.1111111111111111,
              "#482878"
             ],
             [
              0.2222222222222222,
              "#3e4989"
             ],
             [
              0.3333333333333333,
              "#31688e"
             ],
             [
              0.4444444444444444,
              "#26828e"
             ],
             [
              0.5555555555555556,
              "#1f9e89"
             ],
             [
              0.6666666666666666,
              "#35b779"
             ],
             [
              0.7777777777777778,
              "#6ece58"
             ],
             [
              0.8888888888888888,
              "#b5de2b"
             ],
             [
              1,
              "#fde725"
             ]
            ],
            "type": "histogram2dcontour"
           }
          ],
          "mesh3d": [
           {
            "colorbar": {
             "outlinewidth": 1,
             "tickcolor": "rgb(36,36,36)",
             "ticks": "outside"
            },
            "type": "mesh3d"
           }
          ],
          "parcoords": [
           {
            "line": {
             "colorbar": {
              "outlinewidth": 1,
              "tickcolor": "rgb(36,36,36)",
              "ticks": "outside"
             }
            },
            "type": "parcoords"
           }
          ],
          "pie": [
           {
            "automargin": true,
            "type": "pie"
           }
          ],
          "scatter": [
           {
            "fillpattern": {
             "fillmode": "overlay",
             "size": 10,
             "solidity": 0.2
            },
            "type": "scatter"
           }
          ],
          "scatter3d": [
           {
            "line": {
             "colorbar": {
              "outlinewidth": 1,
              "tickcolor": "rgb(36,36,36)",
              "ticks": "outside"
             }
            },
            "marker": {
             "colorbar": {
              "outlinewidth": 1,
              "tickcolor": "rgb(36,36,36)",
              "ticks": "outside"
             }
            },
            "type": "scatter3d"
           }
          ],
          "scattercarpet": [
           {
            "marker": {
             "colorbar": {
              "outlinewidth": 1,
              "tickcolor": "rgb(36,36,36)",
              "ticks": "outside"
             }
            },
            "type": "scattercarpet"
           }
          ],
          "scattergeo": [
           {
            "marker": {
             "colorbar": {
              "outlinewidth": 1,
              "tickcolor": "rgb(36,36,36)",
              "ticks": "outside"
             }
            },
            "type": "scattergeo"
           }
          ],
          "scattergl": [
           {
            "marker": {
             "colorbar": {
              "outlinewidth": 1,
              "tickcolor": "rgb(36,36,36)",
              "ticks": "outside"
             }
            },
            "type": "scattergl"
           }
          ],
          "scattermapbox": [
           {
            "marker": {
             "colorbar": {
              "outlinewidth": 1,
              "tickcolor": "rgb(36,36,36)",
              "ticks": "outside"
             }
            },
            "type": "scattermapbox"
           }
          ],
          "scatterpolar": [
           {
            "marker": {
             "colorbar": {
              "outlinewidth": 1,
              "tickcolor": "rgb(36,36,36)",
              "ticks": "outside"
             }
            },
            "type": "scatterpolar"
           }
          ],
          "scatterpolargl": [
           {
            "marker": {
             "colorbar": {
              "outlinewidth": 1,
              "tickcolor": "rgb(36,36,36)",
              "ticks": "outside"
             }
            },
            "type": "scatterpolargl"
           }
          ],
          "scatterternary": [
           {
            "marker": {
             "colorbar": {
              "outlinewidth": 1,
              "tickcolor": "rgb(36,36,36)",
              "ticks": "outside"
             }
            },
            "type": "scatterternary"
           }
          ],
          "surface": [
           {
            "colorbar": {
             "outlinewidth": 1,
             "tickcolor": "rgb(36,36,36)",
             "ticks": "outside"
            },
            "colorscale": [
             [
              0,
              "#440154"
             ],
             [
              0.1111111111111111,
              "#482878"
             ],
             [
              0.2222222222222222,
              "#3e4989"
             ],
             [
              0.3333333333333333,
              "#31688e"
             ],
             [
              0.4444444444444444,
              "#26828e"
             ],
             [
              0.5555555555555556,
              "#1f9e89"
             ],
             [
              0.6666666666666666,
              "#35b779"
             ],
             [
              0.7777777777777778,
              "#6ece58"
             ],
             [
              0.8888888888888888,
              "#b5de2b"
             ],
             [
              1,
              "#fde725"
             ]
            ],
            "type": "surface"
           }
          ],
          "table": [
           {
            "cells": {
             "fill": {
              "color": "rgb(237,237,237)"
             },
             "line": {
              "color": "white"
             }
            },
            "header": {
             "fill": {
              "color": "rgb(217,217,217)"
             },
             "line": {
              "color": "white"
             }
            },
            "type": "table"
           }
          ]
         },
         "layout": {
          "annotationdefaults": {
           "arrowhead": 0,
           "arrowwidth": 1
          },
          "autotypenumbers": "strict",
          "coloraxis": {
           "colorbar": {
            "outlinewidth": 1,
            "tickcolor": "rgb(36,36,36)",
            "ticks": "outside"
           }
          },
          "colorscale": {
           "diverging": [
            [
             0,
             "rgb(103,0,31)"
            ],
            [
             0.1,
             "rgb(178,24,43)"
            ],
            [
             0.2,
             "rgb(214,96,77)"
            ],
            [
             0.3,
             "rgb(244,165,130)"
            ],
            [
             0.4,
             "rgb(253,219,199)"
            ],
            [
             0.5,
             "rgb(247,247,247)"
            ],
            [
             0.6,
             "rgb(209,229,240)"
            ],
            [
             0.7,
             "rgb(146,197,222)"
            ],
            [
             0.8,
             "rgb(67,147,195)"
            ],
            [
             0.9,
             "rgb(33,102,172)"
            ],
            [
             1,
             "rgb(5,48,97)"
            ]
           ],
           "sequential": [
            [
             0,
             "#440154"
            ],
            [
             0.1111111111111111,
             "#482878"
            ],
            [
             0.2222222222222222,
             "#3e4989"
            ],
            [
             0.3333333333333333,
             "#31688e"
            ],
            [
             0.4444444444444444,
             "#26828e"
            ],
            [
             0.5555555555555556,
             "#1f9e89"
            ],
            [
             0.6666666666666666,
             "#35b779"
            ],
            [
             0.7777777777777778,
             "#6ece58"
            ],
            [
             0.8888888888888888,
             "#b5de2b"
            ],
            [
             1,
             "#fde725"
            ]
           ],
           "sequentialminus": [
            [
             0,
             "#440154"
            ],
            [
             0.1111111111111111,
             "#482878"
            ],
            [
             0.2222222222222222,
             "#3e4989"
            ],
            [
             0.3333333333333333,
             "#31688e"
            ],
            [
             0.4444444444444444,
             "#26828e"
            ],
            [
             0.5555555555555556,
             "#1f9e89"
            ],
            [
             0.6666666666666666,
             "#35b779"
            ],
            [
             0.7777777777777778,
             "#6ece58"
            ],
            [
             0.8888888888888888,
             "#b5de2b"
            ],
            [
             1,
             "#fde725"
            ]
           ]
          },
          "colorway": [
           "#1F77B4",
           "#FF7F0E",
           "#2CA02C",
           "#D62728",
           "#9467BD",
           "#8C564B",
           "#E377C2",
           "#7F7F7F",
           "#BCBD22",
           "#17BECF"
          ],
          "font": {
           "color": "rgb(36,36,36)"
          },
          "geo": {
           "bgcolor": "white",
           "lakecolor": "white",
           "landcolor": "white",
           "showlakes": true,
           "showland": true,
           "subunitcolor": "white"
          },
          "hoverlabel": {
           "align": "left"
          },
          "hovermode": "closest",
          "mapbox": {
           "style": "light"
          },
          "paper_bgcolor": "white",
          "plot_bgcolor": "white",
          "polar": {
           "angularaxis": {
            "gridcolor": "rgb(232,232,232)",
            "linecolor": "rgb(36,36,36)",
            "showgrid": false,
            "showline": true,
            "ticks": "outside"
           },
           "bgcolor": "white",
           "radialaxis": {
            "gridcolor": "rgb(232,232,232)",
            "linecolor": "rgb(36,36,36)",
            "showgrid": false,
            "showline": true,
            "ticks": "outside"
           }
          },
          "scene": {
           "xaxis": {
            "backgroundcolor": "white",
            "gridcolor": "rgb(232,232,232)",
            "gridwidth": 2,
            "linecolor": "rgb(36,36,36)",
            "showbackground": true,
            "showgrid": false,
            "showline": true,
            "ticks": "outside",
            "zeroline": false,
            "zerolinecolor": "rgb(36,36,36)"
           },
           "yaxis": {
            "backgroundcolor": "white",
            "gridcolor": "rgb(232,232,232)",
            "gridwidth": 2,
            "linecolor": "rgb(36,36,36)",
            "showbackground": true,
            "showgrid": false,
            "showline": true,
            "ticks": "outside",
            "zeroline": false,
            "zerolinecolor": "rgb(36,36,36)"
           },
           "zaxis": {
            "backgroundcolor": "white",
            "gridcolor": "rgb(232,232,232)",
            "gridwidth": 2,
            "linecolor": "rgb(36,36,36)",
            "showbackground": true,
            "showgrid": false,
            "showline": true,
            "ticks": "outside",
            "zeroline": false,
            "zerolinecolor": "rgb(36,36,36)"
           }
          },
          "shapedefaults": {
           "fillcolor": "black",
           "line": {
            "width": 0
           },
           "opacity": 0.3
          },
          "ternary": {
           "aaxis": {
            "gridcolor": "rgb(232,232,232)",
            "linecolor": "rgb(36,36,36)",
            "showgrid": false,
            "showline": true,
            "ticks": "outside"
           },
           "baxis": {
            "gridcolor": "rgb(232,232,232)",
            "linecolor": "rgb(36,36,36)",
            "showgrid": false,
            "showline": true,
            "ticks": "outside"
           },
           "bgcolor": "white",
           "caxis": {
            "gridcolor": "rgb(232,232,232)",
            "linecolor": "rgb(36,36,36)",
            "showgrid": false,
            "showline": true,
            "ticks": "outside"
           }
          },
          "title": {
           "x": 0.05
          },
          "xaxis": {
           "automargin": true,
           "gridcolor": "rgb(232,232,232)",
           "linecolor": "rgb(36,36,36)",
           "showgrid": false,
           "showline": true,
           "ticks": "outside",
           "title": {
            "standoff": 15
           },
           "zeroline": false,
           "zerolinecolor": "rgb(36,36,36)"
          },
          "yaxis": {
           "automargin": true,
           "gridcolor": "rgb(232,232,232)",
           "linecolor": "rgb(36,36,36)",
           "showgrid": false,
           "showline": true,
           "ticks": "outside",
           "title": {
            "standoff": 15
           },
           "zeroline": false,
           "zerolinecolor": "rgb(36,36,36)"
          }
         }
        },
        "title": {
         "font": {
          "color": "Black",
          "size": 22
         },
         "text": "<b>Topics over Time</b>",
         "x": 0.4,
         "xanchor": "center",
         "y": 0.95,
         "yanchor": "top"
        },
        "width": 1250,
        "xaxis": {
         "showgrid": true
        },
        "yaxis": {
         "showgrid": true,
         "title": {
          "text": "Normalized Frequency"
         }
        }
       }
      }
     },
     "metadata": {},
     "output_type": "display_data"
    }
   ],
   "source": [
    "topics_over_time_is['Relative Frequency'] = topics_over_time_is.groupby('Timestamp')['Frequency'].transform(lambda x: x / x.sum())\n",
    "\n",
    "fig = topic_model_is.visualize_topics_over_time(topics_over_time_is, topics=[0, 1, 2, 3], normalize_frequency=True)\n",
    "fig.show()"
   ]
  },
  {
   "cell_type": "code",
   "execution_count": 98,
   "metadata": {},
   "outputs": [],
   "source": [
    "df = topics_over_time_is[(topics_over_time_is.Topic == 0) | (topics_over_time_is.Topic == 1) | (topics_over_time_is.Topic == 2) | (topics_over_time_is.Topic == 3)]"
   ]
  },
  {
   "cell_type": "markdown",
   "metadata": {},
   "source": [
    "The following is done to show persistency of results (using relative frequency)"
   ]
  },
  {
   "cell_type": "code",
   "execution_count": 99,
   "metadata": {},
   "outputs": [
    {
     "data": {
      "text/plain": [
       "<Axes: xlabel='Timestamp', ylabel='Relative Frequency'>"
      ]
     },
     "execution_count": 99,
     "metadata": {},
     "output_type": "execute_result"
    },
    {
     "data": {
      "image/png": "[encoded data removed]",
      "text/plain": [
       "<Figure size 640x480 with 1 Axes>"
      ]
     },
     "metadata": {},
     "output_type": "display_data"
    }
   ],
   "source": [
    "import seaborn as sns\n",
    "sns.lineplot(data=df, x='Timestamp', y='Relative Frequency', hue='Topic', marker='o')"
   ]
  },
  {
   "cell_type": "markdown",
   "metadata": {},
   "source": [
    "### Palestine"
   ]
  },
  {
   "cell_type": "code",
   "execution_count": 29,
   "metadata": {},
   "outputs": [],
   "source": [
    "df_palestine['date'] = pd.to_datetime(df_palestine['date'])\n",
    "timestamps = df_palestine.date.to_list()\n",
    "texts = df_palestine.text_cleaned_2.to_list()"
   ]
  },
  {
   "cell_type": "code",
   "execution_count": 30,
   "metadata": {},
   "outputs": [
    {
     "name": "stderr",
     "output_type": "stream",
     "text": [
      "2024-05-22 12:58:08,120 - BERTopic - Embedding - Transforming documents to embeddings.\n",
      "Batches: 100%|██████████| 98/98 [01:43<00:00,  1.05s/it]\n",
      "2024-05-22 12:59:54,167 - BERTopic - Embedding - Completed ✓\n",
      "2024-05-22 12:59:54,169 - BERTopic - Dimensionality - Fitting the dimensionality reduction algorithm\n",
      "2024-05-22 13:00:15,322 - BERTopic - Dimensionality - Completed ✓\n",
      "2024-05-22 13:00:15,324 - BERTopic - Cluster - Start clustering the reduced embeddings\n",
      "2024-05-22 13:00:15,434 - BERTopic - Cluster - Completed ✓\n",
      "2024-05-22 13:00:15,436 - BERTopic - Representation - Extracting topics from clusters using representation models.\n",
      "2024-05-22 13:00:15,768 - BERTopic - Representation - Completed ✓\n"
     ]
    }
   ],
   "source": [
    "topic_model_pal = BERTopic(verbose=True, umap_model=umap_model)\n",
    "topics_pal, probs_pal = topic_model_pal.fit_transform(texts)"
   ]
  },
  {
   "cell_type": "code",
   "execution_count": 31,
   "metadata": {},
   "outputs": [
    {
     "data": {
      "text/html": [
       "<div>\n",
       "<style scoped>\n",
       "    .dataframe tbody tr th:only-of-type {\n",
       "        vertical-align: middle;\n",
       "    }\n",
       "\n",
       "    .dataframe tbody tr th {\n",
       "        vertical-align: top;\n",
       "    }\n",
       "\n",
       "    .dataframe thead th {\n",
       "        text-align: right;\n",
       "    }\n",
       "</style>\n",
       "<table border=\"1\" class=\"dataframe\">\n",
       "  <thead>\n",
       "    <tr style=\"text-align: right;\">\n",
       "      <th></th>\n",
       "      <th>Topic</th>\n",
       "      <th>Count</th>\n",
       "      <th>Name</th>\n",
       "      <th>Representation</th>\n",
       "      <th>Representative_Docs</th>\n",
       "    </tr>\n",
       "  </thead>\n",
       "  <tbody>\n",
       "    <tr>\n",
       "      <th>0</th>\n",
       "      <td>-1</td>\n",
       "      <td>1736</td>\n",
       "      <td>-1_israel_people_have_palestinians</td>\n",
       "      <td>[israel, people, have, palestinians, palestine...</td>\n",
       "      <td>[harsh rule zions breed extremism occupied pal...</td>\n",
       "    </tr>\n",
       "    <tr>\n",
       "      <th>1</th>\n",
       "      <td>0</td>\n",
       "      <td>97</td>\n",
       "      <td>0_donate_help_aid_volunteer</td>\n",
       "      <td>[donate, help, aid, volunteer, charity, organi...</td>\n",
       "      <td>[help help friend want donate help gazans know...</td>\n",
       "    </tr>\n",
       "    <tr>\n",
       "      <th>2</th>\n",
       "      <td>1</td>\n",
       "      <td>82</td>\n",
       "      <td>1_protest_saturday_rally_february</td>\n",
       "      <td>[protest, saturday, rally, february, people, k...</td>\n",
       "      <td>[more people talk march return gazans protest ...</td>\n",
       "    </tr>\n",
       "    <tr>\n",
       "      <th>3</th>\n",
       "      <td>2</td>\n",
       "      <td>73</td>\n",
       "      <td>2_video_baby_find_footage</td>\n",
       "      <td>[video, baby, find, footage, behead, see, imag...</td>\n",
       "      <td>[need footage dead israeli baby friend muslim ...</td>\n",
       "    </tr>\n",
       "    <tr>\n",
       "      <th>4</th>\n",
       "      <td>3</td>\n",
       "      <td>63</td>\n",
       "      <td>3_solution_state_land_israel</td>\n",
       "      <td>[solution, state, land, israel, palestine, pal...</td>\n",
       "      <td>[problem state solution research opinion peopl...</td>\n",
       "    </tr>\n",
       "    <tr>\n",
       "      <th>5</th>\n",
       "      <td>4</td>\n",
       "      <td>61</td>\n",
       "      <td>4_post_comment_ban_reddit</td>\n",
       "      <td>[post, comment, ban, reddit, subreddit, pro, s...</td>\n",
       "      <td>[unable see comment post sub problem end reddi...</td>\n",
       "    </tr>\n",
       "    <tr>\n",
       "      <th>6</th>\n",
       "      <td>5</td>\n",
       "      <td>57</td>\n",
       "      <td>5_hamas_israel_attack_gaza</td>\n",
       "      <td>[hamas, israel, attack, gaza, war, eye, try, g...</td>\n",
       "      <td>[offer solution entire gaza lebanon situation ...</td>\n",
       "    </tr>\n",
       "    <tr>\n",
       "      <th>7</th>\n",
       "      <td>6</td>\n",
       "      <td>55</td>\n",
       "      <td>6_starbucks_boycott_certain_company</td>\n",
       "      <td>[starbucks, boycott, certain, company, coca, c...</td>\n",
       "      <td>[unpopular opinion starbucks botcott ridiculou...</td>\n",
       "    </tr>\n",
       "    <tr>\n",
       "      <th>8</th>\n",
       "      <td>7</td>\n",
       "      <td>53</td>\n",
       "      <td>7_land_jews_british_state</td>\n",
       "      <td>[land, jews, british, state, arab, jewish, pal...</td>\n",
       "      <td>[history mystery long promise read educate lot...</td>\n",
       "    </tr>\n",
       "    <tr>\n",
       "      <th>9</th>\n",
       "      <td>8</td>\n",
       "      <td>51</td>\n",
       "      <td>8_genocide_ethnic_group_area</td>\n",
       "      <td>[genocide, ethnic, group, area, cleansing, cou...</td>\n",
       "      <td>[let have discussion israel commit genocide st...</td>\n",
       "    </tr>\n",
       "    <tr>\n",
       "      <th>10</th>\n",
       "      <td>9</td>\n",
       "      <td>46</td>\n",
       "      <td>9_people_world_god_life</td>\n",
       "      <td>[people, world, god, life, feel, have, death, ...</td>\n",
       "      <td>[hate many silent ongoing genocide talk people...</td>\n",
       "    </tr>\n",
       "    <tr>\n",
       "      <th>11</th>\n",
       "      <td>10</td>\n",
       "      <td>45</td>\n",
       "      <td>10_hospital_shifa_patient_evidence</td>\n",
       "      <td>[hospital, shifa, patient, evidence, medical, ...</td>\n",
       "      <td>[bomb hospital bomb hospital explanation peopl...</td>\n",
       "    </tr>\n",
       "    <tr>\n",
       "      <th>12</th>\n",
       "      <td>11</td>\n",
       "      <td>45</td>\n",
       "      <td>11_hamas_support_palestine_horrible</td>\n",
       "      <td>[hamas, support, palestine, horrible, people, ...</td>\n",
       "      <td>[israeli palestinian conflict fault hear hamas...</td>\n",
       "    </tr>\n",
       "    <tr>\n",
       "      <th>13</th>\n",
       "      <td>12</td>\n",
       "      <td>44</td>\n",
       "      <td>12_medium_side_news_conflict</td>\n",
       "      <td>[medium, side, news, conflict, agent, propagan...</td>\n",
       "      <td>[wrong fall good friend war context believe me...</td>\n",
       "    </tr>\n",
       "    <tr>\n",
       "      <th>14</th>\n",
       "      <td>13</td>\n",
       "      <td>35</td>\n",
       "      <td>13_documentary_recommendation_watch_interview</td>\n",
       "      <td>[documentary, recommendation, watch, interview...</td>\n",
       "      <td>[israelism documentary see hype documentary am...</td>\n",
       "    </tr>\n",
       "    <tr>\n",
       "      <th>15</th>\n",
       "      <td>14</td>\n",
       "      <td>35</td>\n",
       "      <td>14_zionism_zionists_anti_jews</td>\n",
       "      <td>[zionism, zionists, anti, jews, zionist, jewis...</td>\n",
       "      <td>[people throw anti semitic card want say like ...</td>\n",
       "    </tr>\n",
       "  </tbody>\n",
       "</table>\n",
       "</div>"
      ],
      "text/plain": [
       "    Topic  Count                                           Name  \\\n",
       "0      -1   1736             -1_israel_people_have_palestinians   \n",
       "1       0     97                    0_donate_help_aid_volunteer   \n",
       "2       1     82              1_protest_saturday_rally_february   \n",
       "3       2     73                      2_video_baby_find_footage   \n",
       "4       3     63                   3_solution_state_land_israel   \n",
       "5       4     61                      4_post_comment_ban_reddit   \n",
       "6       5     57                     5_hamas_israel_attack_gaza   \n",
       "7       6     55            6_starbucks_boycott_certain_company   \n",
       "8       7     53                      7_land_jews_british_state   \n",
       "9       8     51                   8_genocide_ethnic_group_area   \n",
       "10      9     46                        9_people_world_god_life   \n",
       "11     10     45             10_hospital_shifa_patient_evidence   \n",
       "12     11     45            11_hamas_support_palestine_horrible   \n",
       "13     12     44                   12_medium_side_news_conflict   \n",
       "14     13     35  13_documentary_recommendation_watch_interview   \n",
       "15     14     35                  14_zionism_zionists_anti_jews   \n",
       "\n",
       "                                       Representation  \\\n",
       "0   [israel, people, have, palestinians, palestine...   \n",
       "1   [donate, help, aid, volunteer, charity, organi...   \n",
       "2   [protest, saturday, rally, february, people, k...   \n",
       "3   [video, baby, find, footage, behead, see, imag...   \n",
       "4   [solution, state, land, israel, palestine, pal...   \n",
       "5   [post, comment, ban, reddit, subreddit, pro, s...   \n",
       "6   [hamas, israel, attack, gaza, war, eye, try, g...   \n",
       "7   [starbucks, boycott, certain, company, coca, c...   \n",
       "8   [land, jews, british, state, arab, jewish, pal...   \n",
       "9   [genocide, ethnic, group, area, cleansing, cou...   \n",
       "10  [people, world, god, life, feel, have, death, ...   \n",
       "11  [hospital, shifa, patient, evidence, medical, ...   \n",
       "12  [hamas, support, palestine, horrible, people, ...   \n",
       "13  [medium, side, news, conflict, agent, propagan...   \n",
       "14  [documentary, recommendation, watch, interview...   \n",
       "15  [zionism, zionists, anti, jews, zionist, jewis...   \n",
       "\n",
       "                                  Representative_Docs  \n",
       "0   [harsh rule zions breed extremism occupied pal...  \n",
       "1   [help help friend want donate help gazans know...  \n",
       "2   [more people talk march return gazans protest ...  \n",
       "3   [need footage dead israeli baby friend muslim ...  \n",
       "4   [problem state solution research opinion peopl...  \n",
       "5   [unable see comment post sub problem end reddi...  \n",
       "6   [offer solution entire gaza lebanon situation ...  \n",
       "7   [unpopular opinion starbucks botcott ridiculou...  \n",
       "8   [history mystery long promise read educate lot...  \n",
       "9   [let have discussion israel commit genocide st...  \n",
       "10  [hate many silent ongoing genocide talk people...  \n",
       "11  [bomb hospital bomb hospital explanation peopl...  \n",
       "12  [israeli palestinian conflict fault hear hamas...  \n",
       "13  [wrong fall good friend war context believe me...  \n",
       "14  [israelism documentary see hype documentary am...  \n",
       "15  [people throw anti semitic card want say like ...  "
      ]
     },
     "execution_count": 31,
     "metadata": {},
     "output_type": "execute_result"
    }
   ],
   "source": [
    "topic_model_pal.get_topic_info().loc[0:15, :]"
   ]
  },
  {
   "cell_type": "code",
   "execution_count": 178,
   "metadata": {},
   "outputs": [
    {
     "name": "stderr",
     "output_type": "stream",
     "text": [
      "25it [00:01, 15.67it/s]\n"
     ]
    }
   ],
   "source": [
    "topics_over_time_pal = topic_model_pal.topics_over_time(texts, timestamps, nr_bins=25)"
   ]
  },
  {
   "cell_type": "code",
   "execution_count": 78,
   "metadata": {},
   "outputs": [
    {
     "data": {
      "application/vnd.plotly.v1+json": {
       "config": {
        "plotlyServerURL": "https://plot.ly"
       },
       "data": [
        {
         "hoverinfo": "text",
         "hovertext": [
          "<b>Topic 0</b><br>Words: medicine, hormone, prescribe, hormonal, gyno",
          "<b>Topic 0</b><br>Words: volunteer, immersion, southeast, fluent, science",
          "<b>Topic 0</b><br>Words: donate, help, aid, money, donation",
          "<b>Topic 0</b><br>Words: donate, help, aid, volunteer, charity",
          "<b>Topic 0</b><br>Words: volunteer, donate, help, charity, designer",
          "<b>Topic 0</b><br>Words: maghazi, help, aid, clothing, station",
          "<b>Topic 0</b><br>Words: help, ele, useless, mad, adopt",
          "<b>Topic 0</b><br>Words: paypal, donate, sanitary, volunteer, organization",
          "<b>Topic 0</b><br>Words: travel, aid, vary, volunteer, europeans",
          "<b>Topic 0</b><br>Words: donate, bds, effective, subtract, delegitimize",
          "<b>Topic 0</b><br>Words: esim, app, username, donate, send",
          "<b>Topic 0</b><br>Words: card, donate, scam, charity, transaction",
          "<b>Topic 0</b><br>Words: donate, little, affirm, legit, share",
          "<b>Topic 0</b><br>Words: charity, help, gofundme, pcrf, shade",
          "<b>Topic 0</b><br>Words: donate, volunteer, advice, help, link",
          "<b>Topic 0</b><br>Words: organize, blackheart, greenheart, involve, appreciation"
         ],
         "marker": {
          "color": "#E69F00"
         },
         "mode": "lines",
         "name": "0_donate_help_aid_volunteer",
         "type": "scatter",
         "x": [
          "2023-07-13T02:52:48",
          "2023-09-11T17:16:48",
          "2023-10-05T23:02:24",
          "2023-10-18T01:55:12",
          "2023-10-30T04:48:00",
          "2023-11-11T07:40:48",
          "2023-11-23T10:33:36",
          "2023-12-05T13:26:24",
          "2023-12-17T16:19:12",
          "2023-12-29T19:12:00",
          "2024-01-23T00:57:36",
          "2024-02-16T06:43:12",
          "2024-02-28T09:36:00",
          "2024-03-11T12:28:48",
          "2024-03-23T15:21:36",
          "2024-04-16T21:07:12"
         ],
         "y": [
          1,
          2,
          37,
          34,
          4,
          3,
          1,
          3,
          1,
          1,
          1,
          2,
          1,
          2,
          3,
          1
         ]
        },
        {
         "hoverinfo": "text",
         "hovertext": [
          "<b>Topic 3</b><br>Words: solution, proposal, state, finger, pinky",
          "<b>Topic 3</b><br>Words: realistic, solution, moderate, opposition, state",
          "<b>Topic 3</b><br>Words: solution, state, land, country, have",
          "<b>Topic 3</b><br>Words: solution, state, have, israel, land",
          "<b>Topic 3</b><br>Words: solution, state, land, israel, government",
          "<b>Topic 3</b><br>Words: solution, state, land, territorial, palestinians",
          "<b>Topic 3</b><br>Words: solution, state, land, history, innovation",
          "<b>Topic 3</b><br>Words: state, straight, answer, congratulation, recognize",
          "<b>Topic 3</b><br>Words: solution, citizenship, binational, give, reparation",
          "<b>Topic 3</b><br>Words: solution, state, land, fight, long",
          "<b>Topic 3</b><br>Words: solution, conflict, preface, capability, mistake",
          "<b>Topic 3</b><br>Words: solution, state, accept, option, reject",
          "<b>Topic 3</b><br>Words: settlement, state, solution, decolonisation, colonialism",
          "<b>Topic 3</b><br>Words: solution, state, move, location, predatory",
          "<b>Topic 3</b><br>Words: solution, believe, state, ashkenazi, levant",
          "<b>Topic 3</b><br>Words: repopulate, depopulate, return, stateless, refugee",
          "<b>Topic 3</b><br>Words: solution, unreasonable, state, county, absorb"
         ],
         "marker": {
          "color": "#56B4E9"
         },
         "mode": "lines",
         "name": "3_solution_state_land_israel",
         "type": "scatter",
         "x": [
          "2023-07-25T05:45:36",
          "2023-08-06T08:38:24",
          "2023-10-05T23:02:24",
          "2023-10-18T01:55:12",
          "2023-10-30T04:48:00",
          "2023-11-11T07:40:48",
          "2023-11-23T10:33:36",
          "2023-12-05T13:26:24",
          "2023-12-17T16:19:12",
          "2023-12-29T19:12:00",
          "2024-01-10T22:04:48",
          "2024-02-04T03:50:24",
          "2024-02-16T06:43:12",
          "2024-02-28T09:36:00",
          "2024-03-11T12:28:48",
          "2024-03-23T15:21:36",
          "2024-04-16T21:07:12"
         ],
         "y": [
          3,
          1,
          11,
          10,
          11,
          13,
          4,
          1,
          1,
          1,
          1,
          1,
          1,
          1,
          1,
          1,
          1
         ]
        },
        {
         "hoverinfo": "text",
         "hovertext": [
          "<b>Topic 5</b><br>Words: strikes, strike, general, grasp, notice",
          "<b>Topic 5</b><br>Words: hamas, israel, eye, gaza, attack",
          "<b>Topic 5</b><br>Words: hamas, israel, attack, eye, try",
          "<b>Topic 5</b><br>Words: hamas, israel, assassinate, war, gaza",
          "<b>Topic 5</b><br>Words: ensure, population, war, gaza, hamas",
          "<b>Topic 5</b><br>Words: hamas, israel, unethical, nursing, hide",
          "<b>Topic 5</b><br>Words: enabler, unlivable, damaged, predict, compassionate",
          "<b>Topic 5</b><br>Words: ship, attack, houthis, mandeb, usa",
          "<b>Topic 5</b><br>Words: theory, israel, try, aid, palistine"
         ],
         "marker": {
          "color": "#009E73"
         },
         "mode": "lines",
         "name": "5_hamas_israel_attack_gaza",
         "type": "scatter",
         "x": [
          "2023-08-06T08:38:24",
          "2023-10-05T23:02:24",
          "2023-10-18T01:55:12",
          "2023-10-30T04:48:00",
          "2023-11-23T10:33:36",
          "2023-12-05T13:26:24",
          "2023-12-17T16:19:12",
          "2023-12-29T19:12:00",
          "2024-02-16T06:43:12"
         ],
         "y": [
          1,
          23,
          20,
          5,
          2,
          2,
          1,
          1,
          2
         ]
        },
        {
         "hoverinfo": "text",
         "hovertext": [
          "<b>Topic 21</b><br>Words: visit, jeruzalem, nablus, city, bethlehem",
          "<b>Topic 21</b><br>Words: visit, nablus, jericho, itinerary, aqsa",
          "<b>Topic 21</b><br>Words: visit, tour, travel, jenin, nablus",
          "<b>Topic 21</b><br>Words: breakdown, airport, cost, taxiany, fee",
          "<b>Topic 21</b><br>Words: visit, tourist, israli, bethlehem, amman",
          "<b>Topic 21</b><br>Words: jordanian, passport, travel, laissez, passer",
          "<b>Topic 21</b><br>Words: taxi, visit, bethlehem, retire, checkpoint",
          "<b>Topic 21</b><br>Words: visit, operator, ofcourse, tour, ksa",
          "<b>Topic 21</b><br>Words: send, colleague, visit, parcel, ems",
          "<b>Topic 21</b><br>Words: allenby, hussein, bridge, crossing, king",
          "<b>Topic 21</b><br>Words: grandfather, chance, ask, embark, trip",
          "<b>Topic 21</b><br>Words: aqsa, ramadan, quarter, visit, hotel"
         ],
         "marker": {
          "color": "#F0E442"
         },
         "mode": "lines",
         "name": "21_visit_travel_aqsa_nablus",
         "type": "scatter",
         "x": [
          "2023-06-30T16:43:40.800000",
          "2023-07-13T02:52:48",
          "2023-07-25T05:45:36",
          "2023-08-06T08:38:24",
          "2023-08-18T11:31:12",
          "2023-08-30T14:24:00",
          "2023-09-11T17:16:48",
          "2023-09-23T20:09:36",
          "2023-10-18T01:55:12",
          "2023-11-23T10:33:36",
          "2023-12-05T13:26:24",
          "2024-02-28T09:36:00"
         ],
         "y": [
          2,
          4,
          3,
          1,
          3,
          1,
          4,
          2,
          2,
          1,
          1,
          1
         ]
        }
       ],
       "layout": {
        "height": 450,
        "hoverlabel": {
         "bgcolor": "white",
         "font": {
          "family": "Rockwell",
          "size": 16
         }
        },
        "legend": {
         "title": {
          "text": "<b>Global Topic Representation"
         }
        },
        "template": {
         "data": {
          "bar": [
           {
            "error_x": {
             "color": "rgb(36,36,36)"
            },
            "error_y": {
             "color": "rgb(36,36,36)"
            },
            "marker": {
             "line": {
              "color": "white",
              "width": 0.5
             },
             "pattern": {
              "fillmode": "overlay",
              "size": 10,
              "solidity": 0.2
             }
            },
            "type": "bar"
           }
          ],
          "barpolar": [
           {
            "marker": {
             "line": {
              "color": "white",
              "width": 0.5
             },
             "pattern": {
              "fillmode": "overlay",
              "size": 10,
              "solidity": 0.2
             }
            },
            "type": "barpolar"
           }
          ],
          "carpet": [
           {
            "aaxis": {
             "endlinecolor": "rgb(36,36,36)",
             "gridcolor": "white",
             "linecolor": "white",
             "minorgridcolor": "white",
             "startlinecolor": "rgb(36,36,36)"
            },
            "baxis": {
             "endlinecolor": "rgb(36,36,36)",
             "gridcolor": "white",
             "linecolor": "white",
             "minorgridcolor": "white",
             "startlinecolor": "rgb(36,36,36)"
            },
            "type": "carpet"
           }
          ],
          "choropleth": [
           {
            "colorbar": {
             "outlinewidth": 1,
             "tickcolor": "rgb(36,36,36)",
             "ticks": "outside"
            },
            "type": "choropleth"
           }
          ],
          "contour": [
           {
            "colorbar": {
             "outlinewidth": 1,
             "tickcolor": "rgb(36,36,36)",
             "ticks": "outside"
            },
            "colorscale": [
             [
              0,
              "#440154"
             ],
             [
              0.1111111111111111,
              "#482878"
             ],
             [
              0.2222222222222222,
              "#3e4989"
             ],
             [
              0.3333333333333333,
              "#31688e"
             ],
             [
              0.4444444444444444,
              "#26828e"
             ],
             [
              0.5555555555555556,
              "#1f9e89"
             ],
             [
              0.6666666666666666,
              "#35b779"
             ],
             [
              0.7777777777777778,
              "#6ece58"
             ],
             [
              0.8888888888888888,
              "#b5de2b"
             ],
             [
              1,
              "#fde725"
             ]
            ],
            "type": "contour"
           }
          ],
          "contourcarpet": [
           {
            "colorbar": {
             "outlinewidth": 1,
             "tickcolor": "rgb(36,36,36)",
             "ticks": "outside"
            },
            "type": "contourcarpet"
           }
          ],
          "heatmap": [
           {
            "colorbar": {
             "outlinewidth": 1,
             "tickcolor": "rgb(36,36,36)",
             "ticks": "outside"
            },
            "colorscale": [
             [
              0,
              "#440154"
             ],
             [
              0.1111111111111111,
              "#482878"
             ],
             [
              0.2222222222222222,
              "#3e4989"
             ],
             [
              0.3333333333333333,
              "#31688e"
             ],
             [
              0.4444444444444444,
              "#26828e"
             ],
             [
              0.5555555555555556,
              "#1f9e89"
             ],
             [
              0.6666666666666666,
              "#35b779"
             ],
             [
              0.7777777777777778,
              "#6ece58"
             ],
             [
              0.8888888888888888,
              "#b5de2b"
             ],
             [
              1,
              "#fde725"
             ]
            ],
            "type": "heatmap"
           }
          ],
          "heatmapgl": [
           {
            "colorbar": {
             "outlinewidth": 1,
             "tickcolor": "rgb(36,36,36)",
             "ticks": "outside"
            },
            "colorscale": [
             [
              0,
              "#440154"
             ],
             [
              0.1111111111111111,
              "#482878"
             ],
             [
              0.2222222222222222,
              "#3e4989"
             ],
             [
              0.3333333333333333,
              "#31688e"
             ],
             [
              0.4444444444444444,
              "#26828e"
             ],
             [
              0.5555555555555556,
              "#1f9e89"
             ],
             [
              0.6666666666666666,
              "#35b779"
             ],
             [
              0.7777777777777778,
              "#6ece58"
             ],
             [
              0.8888888888888888,
              "#b5de2b"
             ],
             [
              1,
              "#fde725"
             ]
            ],
            "type": "heatmapgl"
           }
          ],
          "histogram": [
           {
            "marker": {
             "line": {
              "color": "white",
              "width": 0.6
             }
            },
            "type": "histogram"
           }
          ],
          "histogram2d": [
           {
            "colorbar": {
             "outlinewidth": 1,
             "tickcolor": "rgb(36,36,36)",
             "ticks": "outside"
            },
            "colorscale": [
             [
              0,
              "#440154"
             ],
             [
              0.1111111111111111,
              "#482878"
             ],
             [
              0.2222222222222222,
              "#3e4989"
             ],
             [
              0.3333333333333333,
              "#31688e"
             ],
             [
              0.4444444444444444,
              "#26828e"
             ],
             [
              0.5555555555555556,
              "#1f9e89"
             ],
             [
              0.6666666666666666,
              "#35b779"
             ],
             [
              0.7777777777777778,
              "#6ece58"
             ],
             [
              0.8888888888888888,
              "#b5de2b"
             ],
             [
              1,
              "#fde725"
             ]
            ],
            "type": "histogram2d"
           }
          ],
          "histogram2dcontour": [
           {
            "colorbar": {
             "outlinewidth": 1,
             "tickcolor": "rgb(36,36,36)",
             "ticks": "outside"
            },
            "colorscale": [
             [
              0,
              "#440154"
             ],
             [
              0.1111111111111111,
              "#482878"
             ],
             [
              0.2222222222222222,
              "#3e4989"
             ],
             [
              0.3333333333333333,
              "#31688e"
             ],
             [
              0.4444444444444444,
              "#26828e"
             ],
             [
              0.5555555555555556,
              "#1f9e89"
             ],
             [
              0.6666666666666666,
              "#35b779"
             ],
             [
              0.7777777777777778,
              "#6ece58"
             ],
             [
              0.8888888888888888,
              "#b5de2b"
             ],
             [
              1,
              "#fde725"
             ]
            ],
            "type": "histogram2dcontour"
           }
          ],
          "mesh3d": [
           {
            "colorbar": {
             "outlinewidth": 1,
             "tickcolor": "rgb(36,36,36)",
             "ticks": "outside"
            },
            "type": "mesh3d"
           }
          ],
          "parcoords": [
           {
            "line": {
             "colorbar": {
              "outlinewidth": 1,
              "tickcolor": "rgb(36,36,36)",
              "ticks": "outside"
             }
            },
            "type": "parcoords"
           }
          ],
          "pie": [
           {
            "automargin": true,
            "type": "pie"
           }
          ],
          "scatter": [
           {
            "fillpattern": {
             "fillmode": "overlay",
             "size": 10,
             "solidity": 0.2
            },
            "type": "scatter"
           }
          ],
          "scatter3d": [
           {
            "line": {
             "colorbar": {
              "outlinewidth": 1,
              "tickcolor": "rgb(36,36,36)",
              "ticks": "outside"
             }
            },
            "marker": {
             "colorbar": {
              "outlinewidth": 1,
              "tickcolor": "rgb(36,36,36)",
              "ticks": "outside"
             }
            },
            "type": "scatter3d"
           }
          ],
          "scattercarpet": [
           {
            "marker": {
             "colorbar": {
              "outlinewidth": 1,
              "tickcolor": "rgb(36,36,36)",
              "ticks": "outside"
             }
            },
            "type": "scattercarpet"
           }
          ],
          "scattergeo": [
           {
            "marker": {
             "colorbar": {
              "outlinewidth": 1,
              "tickcolor": "rgb(36,36,36)",
              "ticks": "outside"
             }
            },
            "type": "scattergeo"
           }
          ],
          "scattergl": [
           {
            "marker": {
             "colorbar": {
              "outlinewidth": 1,
              "tickcolor": "rgb(36,36,36)",
              "ticks": "outside"
             }
            },
            "type": "scattergl"
           }
          ],
          "scattermapbox": [
           {
            "marker": {
             "colorbar": {
              "outlinewidth": 1,
              "tickcolor": "rgb(36,36,36)",
              "ticks": "outside"
             }
            },
            "type": "scattermapbox"
           }
          ],
          "scatterpolar": [
           {
            "marker": {
             "colorbar": {
              "outlinewidth": 1,
              "tickcolor": "rgb(36,36,36)",
              "ticks": "outside"
             }
            },
            "type": "scatterpolar"
           }
          ],
          "scatterpolargl": [
           {
            "marker": {
             "colorbar": {
              "outlinewidth": 1,
              "tickcolor": "rgb(36,36,36)",
              "ticks": "outside"
             }
            },
            "type": "scatterpolargl"
           }
          ],
          "scatterternary": [
           {
            "marker": {
             "colorbar": {
              "outlinewidth": 1,
              "tickcolor": "rgb(36,36,36)",
              "ticks": "outside"
             }
            },
            "type": "scatterternary"
           }
          ],
          "surface": [
           {
            "colorbar": {
             "outlinewidth": 1,
             "tickcolor": "rgb(36,36,36)",
             "ticks": "outside"
            },
            "colorscale": [
             [
              0,
              "#440154"
             ],
             [
              0.1111111111111111,
              "#482878"
             ],
             [
              0.2222222222222222,
              "#3e4989"
             ],
             [
              0.3333333333333333,
              "#31688e"
             ],
             [
              0.4444444444444444,
              "#26828e"
             ],
             [
              0.5555555555555556,
              "#1f9e89"
             ],
             [
              0.6666666666666666,
              "#35b779"
             ],
             [
              0.7777777777777778,
              "#6ece58"
             ],
             [
              0.8888888888888888,
              "#b5de2b"
             ],
             [
              1,
              "#fde725"
             ]
            ],
            "type": "surface"
           }
          ],
          "table": [
           {
            "cells": {
             "fill": {
              "color": "rgb(237,237,237)"
             },
             "line": {
              "color": "white"
             }
            },
            "header": {
             "fill": {
              "color": "rgb(217,217,217)"
             },
             "line": {
              "color": "white"
             }
            },
            "type": "table"
           }
          ]
         },
         "layout": {
          "annotationdefaults": {
           "arrowhead": 0,
           "arrowwidth": 1
          },
          "autotypenumbers": "strict",
          "coloraxis": {
           "colorbar": {
            "outlinewidth": 1,
            "tickcolor": "rgb(36,36,36)",
            "ticks": "outside"
           }
          },
          "colorscale": {
           "diverging": [
            [
             0,
             "rgb(103,0,31)"
            ],
            [
             0.1,
             "rgb(178,24,43)"
            ],
            [
             0.2,
             "rgb(214,96,77)"
            ],
            [
             0.3,
             "rgb(244,165,130)"
            ],
            [
             0.4,
             "rgb(253,219,199)"
            ],
            [
             0.5,
             "rgb(247,247,247)"
            ],
            [
             0.6,
             "rgb(209,229,240)"
            ],
            [
             0.7,
             "rgb(146,197,222)"
            ],
            [
             0.8,
             "rgb(67,147,195)"
            ],
            [
             0.9,
             "rgb(33,102,172)"
            ],
            [
             1,
             "rgb(5,48,97)"
            ]
           ],
           "sequential": [
            [
             0,
             "#440154"
            ],
            [
             0.1111111111111111,
             "#482878"
            ],
            [
             0.2222222222222222,
             "#3e4989"
            ],
            [
             0.3333333333333333,
             "#31688e"
            ],
            [
             0.4444444444444444,
             "#26828e"
            ],
            [
             0.5555555555555556,
             "#1f9e89"
            ],
            [
             0.6666666666666666,
             "#35b779"
            ],
            [
             0.7777777777777778,
             "#6ece58"
            ],
            [
             0.8888888888888888,
             "#b5de2b"
            ],
            [
             1,
             "#fde725"
            ]
           ],
           "sequentialminus": [
            [
             0,
             "#440154"
            ],
            [
             0.1111111111111111,
             "#482878"
            ],
            [
             0.2222222222222222,
             "#3e4989"
            ],
            [
             0.3333333333333333,
             "#31688e"
            ],
            [
             0.4444444444444444,
             "#26828e"
            ],
            [
             0.5555555555555556,
             "#1f9e89"
            ],
            [
             0.6666666666666666,
             "#35b779"
            ],
            [
             0.7777777777777778,
             "#6ece58"
            ],
            [
             0.8888888888888888,
             "#b5de2b"
            ],
            [
             1,
             "#fde725"
            ]
           ]
          },
          "colorway": [
           "#1F77B4",
           "#FF7F0E",
           "#2CA02C",
           "#D62728",
           "#9467BD",
           "#8C564B",
           "#E377C2",
           "#7F7F7F",
           "#BCBD22",
           "#17BECF"
          ],
          "font": {
           "color": "rgb(36,36,36)"
          },
          "geo": {
           "bgcolor": "white",
           "lakecolor": "white",
           "landcolor": "white",
           "showlakes": true,
           "showland": true,
           "subunitcolor": "white"
          },
          "hoverlabel": {
           "align": "left"
          },
          "hovermode": "closest",
          "mapbox": {
           "style": "light"
          },
          "paper_bgcolor": "white",
          "plot_bgcolor": "white",
          "polar": {
           "angularaxis": {
            "gridcolor": "rgb(232,232,232)",
            "linecolor": "rgb(36,36,36)",
            "showgrid": false,
            "showline": true,
            "ticks": "outside"
           },
           "bgcolor": "white",
           "radialaxis": {
            "gridcolor": "rgb(232,232,232)",
            "linecolor": "rgb(36,36,36)",
            "showgrid": false,
            "showline": true,
            "ticks": "outside"
           }
          },
          "scene": {
           "xaxis": {
            "backgroundcolor": "white",
            "gridcolor": "rgb(232,232,232)",
            "gridwidth": 2,
            "linecolor": "rgb(36,36,36)",
            "showbackground": true,
            "showgrid": false,
            "showline": true,
            "ticks": "outside",
            "zeroline": false,
            "zerolinecolor": "rgb(36,36,36)"
           },
           "yaxis": {
            "backgroundcolor": "white",
            "gridcolor": "rgb(232,232,232)",
            "gridwidth": 2,
            "linecolor": "rgb(36,36,36)",
            "showbackground": true,
            "showgrid": false,
            "showline": true,
            "ticks": "outside",
            "zeroline": false,
            "zerolinecolor": "rgb(36,36,36)"
           },
           "zaxis": {
            "backgroundcolor": "white",
            "gridcolor": "rgb(232,232,232)",
            "gridwidth": 2,
            "linecolor": "rgb(36,36,36)",
            "showbackground": true,
            "showgrid": false,
            "showline": true,
            "ticks": "outside",
            "zeroline": false,
            "zerolinecolor": "rgb(36,36,36)"
           }
          },
          "shapedefaults": {
           "fillcolor": "black",
           "line": {
            "width": 0
           },
           "opacity": 0.3
          },
          "ternary": {
           "aaxis": {
            "gridcolor": "rgb(232,232,232)",
            "linecolor": "rgb(36,36,36)",
            "showgrid": false,
            "showline": true,
            "ticks": "outside"
           },
           "baxis": {
            "gridcolor": "rgb(232,232,232)",
            "linecolor": "rgb(36,36,36)",
            "showgrid": false,
            "showline": true,
            "ticks": "outside"
           },
           "bgcolor": "white",
           "caxis": {
            "gridcolor": "rgb(232,232,232)",
            "linecolor": "rgb(36,36,36)",
            "showgrid": false,
            "showline": true,
            "ticks": "outside"
           }
          },
          "title": {
           "x": 0.05
          },
          "xaxis": {
           "automargin": true,
           "gridcolor": "rgb(232,232,232)",
           "linecolor": "rgb(36,36,36)",
           "showgrid": false,
           "showline": true,
           "ticks": "outside",
           "title": {
            "standoff": 15
           },
           "zeroline": false,
           "zerolinecolor": "rgb(36,36,36)"
          },
          "yaxis": {
           "automargin": true,
           "gridcolor": "rgb(232,232,232)",
           "linecolor": "rgb(36,36,36)",
           "showgrid": false,
           "showline": true,
           "ticks": "outside",
           "title": {
            "standoff": 15
           },
           "zeroline": false,
           "zerolinecolor": "rgb(36,36,36)"
          }
         }
        },
        "title": {
         "font": {
          "color": "Black",
          "size": 22
         },
         "text": "<b>Topics over Time</b>",
         "x": 0.4,
         "xanchor": "center",
         "y": 0.95,
         "yanchor": "top"
        },
        "width": 1250,
        "xaxis": {
         "showgrid": true
        },
        "yaxis": {
         "showgrid": true,
         "title": {
          "text": "Frequency"
         }
        }
       }
      }
     },
     "metadata": {},
     "output_type": "display_data"
    }
   ],
   "source": [
    "topic_model_pal.visualize_topics_over_time(topics_over_time_pal, topics=[0, 3, 5, 21])"
   ]
  },
  {
   "cell_type": "code",
   "execution_count": 75,
   "metadata": {},
   "outputs": [
    {
     "data": {
      "application/vnd.plotly.v1+json": {
       "config": {
        "plotlyServerURL": "https://plot.ly"
       },
       "data": [
        {
         "hoverinfo": "text",
         "hovertext": [
          "<b>Topic 0</b><br>Words: medicine, hormone, prescribe, hormonal, gyno",
          "<b>Topic 0</b><br>Words: volunteer, immersion, southeast, fluent, science",
          "<b>Topic 0</b><br>Words: donate, help, aid, money, donation",
          "<b>Topic 0</b><br>Words: donate, help, aid, volunteer, charity",
          "<b>Topic 0</b><br>Words: volunteer, donate, help, charity, designer",
          "<b>Topic 0</b><br>Words: maghazi, help, aid, clothing, station",
          "<b>Topic 0</b><br>Words: help, ele, useless, mad, adopt",
          "<b>Topic 0</b><br>Words: paypal, donate, sanitary, volunteer, organization",
          "<b>Topic 0</b><br>Words: travel, aid, vary, volunteer, europeans",
          "<b>Topic 0</b><br>Words: donate, bds, effective, subtract, delegitimize",
          "<b>Topic 0</b><br>Words: esim, app, username, donate, send",
          "<b>Topic 0</b><br>Words: card, donate, scam, charity, transaction",
          "<b>Topic 0</b><br>Words: donate, little, affirm, legit, share",
          "<b>Topic 0</b><br>Words: charity, help, gofundme, pcrf, shade",
          "<b>Topic 0</b><br>Words: donate, volunteer, advice, help, link",
          "<b>Topic 0</b><br>Words: organize, blackheart, greenheart, involve, appreciation"
         ],
         "marker": {
          "color": "#E69F00"
         },
         "mode": "lines",
         "name": "0_donate_help_aid_volunteer",
         "type": "scatter",
         "x": [
          "2023-07-13T02:52:48",
          "2023-09-11T17:16:48",
          "2023-10-05T23:02:24",
          "2023-10-18T01:55:12",
          "2023-10-30T04:48:00",
          "2023-11-11T07:40:48",
          "2023-11-23T10:33:36",
          "2023-12-05T13:26:24",
          "2023-12-17T16:19:12",
          "2023-12-29T19:12:00",
          "2024-01-23T00:57:36",
          "2024-02-16T06:43:12",
          "2024-02-28T09:36:00",
          "2024-03-11T12:28:48",
          "2024-03-23T15:21:36",
          "2024-04-16T21:07:12"
         ],
         "y": [
          0.01966082717592504,
          0.03932165435185008,
          0.7274506055092265,
          0.6684681239814514,
          0.07864330870370016,
          0.05898248152777512,
          0.01966082717592504,
          0.05898248152777512,
          0.01966082717592504,
          0.01966082717592504,
          0.01966082717592504,
          0.03932165435185008,
          0.01966082717592504,
          0.03932165435185008,
          0.05898248152777512,
          0.01966082717592504
         ]
        },
        {
         "hoverinfo": "text",
         "hovertext": [
          "<b>Topic 3</b><br>Words: solution, proposal, state, finger, pinky",
          "<b>Topic 3</b><br>Words: realistic, solution, moderate, opposition, state",
          "<b>Topic 3</b><br>Words: solution, state, land, country, have",
          "<b>Topic 3</b><br>Words: solution, state, have, israel, land",
          "<b>Topic 3</b><br>Words: solution, state, land, israel, government",
          "<b>Topic 3</b><br>Words: solution, state, land, territorial, palestinians",
          "<b>Topic 3</b><br>Words: solution, state, land, history, innovation",
          "<b>Topic 3</b><br>Words: state, straight, answer, congratulation, recognize",
          "<b>Topic 3</b><br>Words: solution, citizenship, binational, give, reparation",
          "<b>Topic 3</b><br>Words: solution, state, land, fight, long",
          "<b>Topic 3</b><br>Words: solution, conflict, preface, capability, mistake",
          "<b>Topic 3</b><br>Words: solution, state, accept, option, reject",
          "<b>Topic 3</b><br>Words: settlement, state, solution, decolonisation, colonialism",
          "<b>Topic 3</b><br>Words: solution, state, move, location, predatory",
          "<b>Topic 3</b><br>Words: solution, believe, state, ashkenazi, levant",
          "<b>Topic 3</b><br>Words: repopulate, depopulate, return, stateless, refugee",
          "<b>Topic 3</b><br>Words: solution, unreasonable, state, county, absorb"
         ],
         "marker": {
          "color": "#56B4E9"
         },
         "mode": "lines",
         "name": "3_solution_state_land_israel",
         "type": "scatter",
         "x": [
          "2023-07-25T05:45:36",
          "2023-08-06T08:38:24",
          "2023-10-05T23:02:24",
          "2023-10-18T01:55:12",
          "2023-10-30T04:48:00",
          "2023-11-11T07:40:48",
          "2023-11-23T10:33:36",
          "2023-12-05T13:26:24",
          "2023-12-17T16:19:12",
          "2023-12-29T19:12:00",
          "2024-01-10T22:04:48",
          "2024-02-04T03:50:24",
          "2024-02-16T06:43:12",
          "2024-02-28T09:36:00",
          "2024-03-11T12:28:48",
          "2024-03-23T15:21:36",
          "2024-04-16T21:07:12"
         ],
         "y": [
          0.12827073744270384,
          0.04275691248090128,
          0.47032603728991407,
          0.42756912480901277,
          0.47032603728991407,
          0.5558398622517166,
          0.1710276499236051,
          0.04275691248090128,
          0.04275691248090128,
          0.04275691248090128,
          0.04275691248090128,
          0.04275691248090128,
          0.04275691248090128,
          0.04275691248090128,
          0.04275691248090128,
          0.04275691248090128,
          0.04275691248090128
         ]
        },
        {
         "hoverinfo": "text",
         "hovertext": [
          "<b>Topic 5</b><br>Words: strikes, strike, general, grasp, notice",
          "<b>Topic 5</b><br>Words: hamas, israel, eye, gaza, attack",
          "<b>Topic 5</b><br>Words: hamas, israel, attack, eye, try",
          "<b>Topic 5</b><br>Words: hamas, israel, assassinate, war, gaza",
          "<b>Topic 5</b><br>Words: ensure, population, war, gaza, hamas",
          "<b>Topic 5</b><br>Words: hamas, israel, unethical, nursing, hide",
          "<b>Topic 5</b><br>Words: enabler, unlivable, damaged, predict, compassionate",
          "<b>Topic 5</b><br>Words: ship, attack, houthis, mandeb, usa",
          "<b>Topic 5</b><br>Words: theory, israel, try, aid, palistine"
         ],
         "marker": {
          "color": "#009E73"
         },
         "mode": "lines",
         "name": "5_hamas_israel_attack_gaza",
         "type": "scatter",
         "x": [
          "2023-08-06T08:38:24",
          "2023-10-05T23:02:24",
          "2023-10-18T01:55:12",
          "2023-10-30T04:48:00",
          "2023-11-23T10:33:36",
          "2023-12-05T13:26:24",
          "2023-12-17T16:19:12",
          "2023-12-29T19:12:00",
          "2024-02-16T06:43:12"
         ],
         "y": [
          0.03212462831016178,
          0.7388664511337208,
          0.6424925662032356,
          0.1606231415508089,
          0.06424925662032356,
          0.06424925662032356,
          0.03212462831016178,
          0.03212462831016178,
          0.06424925662032356
         ]
        },
        {
         "hoverinfo": "text",
         "hovertext": [
          "<b>Topic 21</b><br>Words: visit, jeruzalem, nablus, city, bethlehem",
          "<b>Topic 21</b><br>Words: visit, nablus, jericho, itinerary, aqsa",
          "<b>Topic 21</b><br>Words: visit, tour, travel, jenin, nablus",
          "<b>Topic 21</b><br>Words: breakdown, airport, cost, taxiany, fee",
          "<b>Topic 21</b><br>Words: visit, tourist, israli, bethlehem, amman",
          "<b>Topic 21</b><br>Words: jordanian, passport, travel, laissez, passer",
          "<b>Topic 21</b><br>Words: taxi, visit, bethlehem, retire, checkpoint",
          "<b>Topic 21</b><br>Words: visit, operator, ofcourse, tour, ksa",
          "<b>Topic 21</b><br>Words: send, colleague, visit, parcel, ems",
          "<b>Topic 21</b><br>Words: allenby, hussein, bridge, crossing, king",
          "<b>Topic 21</b><br>Words: grandfather, chance, ask, embark, trip",
          "<b>Topic 21</b><br>Words: aqsa, ramadan, quarter, visit, hotel"
         ],
         "marker": {
          "color": "#F0E442"
         },
         "mode": "lines",
         "name": "21_visit_travel_aqsa_nablus",
         "type": "scatter",
         "x": [
          "2023-06-30T16:43:40.800000",
          "2023-07-13T02:52:48",
          "2023-07-25T05:45:36",
          "2023-08-06T08:38:24",
          "2023-08-18T11:31:12",
          "2023-08-30T14:24:00",
          "2023-09-11T17:16:48",
          "2023-09-23T20:09:36",
          "2023-10-18T01:55:12",
          "2023-11-23T10:33:36",
          "2023-12-05T13:26:24",
          "2024-02-28T09:36:00"
         ],
         "y": [
          0.24433888871261045,
          0.4886777774252209,
          0.36650833306891567,
          0.12216944435630522,
          0.36650833306891567,
          0.12216944435630522,
          0.4886777774252209,
          0.24433888871261045,
          0.24433888871261045,
          0.12216944435630522,
          0.12216944435630522,
          0.12216944435630522
         ]
        }
       ],
       "layout": {
        "height": 450,
        "hoverlabel": {
         "bgcolor": "white",
         "font": {
          "family": "Rockwell",
          "size": 16
         }
        },
        "legend": {
         "title": {
          "text": "<b>Global Topic Representation"
         }
        },
        "template": {
         "data": {
          "bar": [
           {
            "error_x": {
             "color": "rgb(36,36,36)"
            },
            "error_y": {
             "color": "rgb(36,36,36)"
            },
            "marker": {
             "line": {
              "color": "white",
              "width": 0.5
             },
             "pattern": {
              "fillmode": "overlay",
              "size": 10,
              "solidity": 0.2
             }
            },
            "type": "bar"
           }
          ],
          "barpolar": [
           {
            "marker": {
             "line": {
              "color": "white",
              "width": 0.5
             },
             "pattern": {
              "fillmode": "overlay",
              "size": 10,
              "solidity": 0.2
             }
            },
            "type": "barpolar"
           }
          ],
          "carpet": [
           {
            "aaxis": {
             "endlinecolor": "rgb(36,36,36)",
             "gridcolor": "white",
             "linecolor": "white",
             "minorgridcolor": "white",
             "startlinecolor": "rgb(36,36,36)"
            },
            "baxis": {
             "endlinecolor": "rgb(36,36,36)",
             "gridcolor": "white",
             "linecolor": "white",
             "minorgridcolor": "white",
             "startlinecolor": "rgb(36,36,36)"
            },
            "type": "carpet"
           }
          ],
          "choropleth": [
           {
            "colorbar": {
             "outlinewidth": 1,
             "tickcolor": "rgb(36,36,36)",
             "ticks": "outside"
            },
            "type": "choropleth"
           }
          ],
          "contour": [
           {
            "colorbar": {
             "outlinewidth": 1,
             "tickcolor": "rgb(36,36,36)",
             "ticks": "outside"
            },
            "colorscale": [
             [
              0,
              "#440154"
             ],
             [
              0.1111111111111111,
              "#482878"
             ],
             [
              0.2222222222222222,
              "#3e4989"
             ],
             [
              0.3333333333333333,
              "#31688e"
             ],
             [
              0.4444444444444444,
              "#26828e"
             ],
             [
              0.5555555555555556,
              "#1f9e89"
             ],
             [
              0.6666666666666666,
              "#35b779"
             ],
             [
              0.7777777777777778,
              "#6ece58"
             ],
             [
              0.8888888888888888,
              "#b5de2b"
             ],
             [
              1,
              "#fde725"
             ]
            ],
            "type": "contour"
           }
          ],
          "contourcarpet": [
           {
            "colorbar": {
             "outlinewidth": 1,
             "tickcolor": "rgb(36,36,36)",
             "ticks": "outside"
            },
            "type": "contourcarpet"
           }
          ],
          "heatmap": [
           {
            "colorbar": {
             "outlinewidth": 1,
             "tickcolor": "rgb(36,36,36)",
             "ticks": "outside"
            },
            "colorscale": [
             [
              0,
              "#440154"
             ],
             [
              0.1111111111111111,
              "#482878"
             ],
             [
              0.2222222222222222,
              "#3e4989"
             ],
             [
              0.3333333333333333,
              "#31688e"
             ],
             [
              0.4444444444444444,
              "#26828e"
             ],
             [
              0.5555555555555556,
              "#1f9e89"
             ],
             [
              0.6666666666666666,
              "#35b779"
             ],
             [
              0.7777777777777778,
              "#6ece58"
             ],
             [
              0.8888888888888888,
              "#b5de2b"
             ],
             [
              1,
              "#fde725"
             ]
            ],
            "type": "heatmap"
           }
          ],
          "heatmapgl": [
           {
            "colorbar": {
             "outlinewidth": 1,
             "tickcolor": "rgb(36,36,36)",
             "ticks": "outside"
            },
            "colorscale": [
             [
              0,
              "#440154"
             ],
             [
              0.1111111111111111,
              "#482878"
             ],
             [
              0.2222222222222222,
              "#3e4989"
             ],
             [
              0.3333333333333333,
              "#31688e"
             ],
             [
              0.4444444444444444,
              "#26828e"
             ],
             [
              0.5555555555555556,
              "#1f9e89"
             ],
             [
              0.6666666666666666,
              "#35b779"
             ],
             [
              0.7777777777777778,
              "#6ece58"
             ],
             [
              0.8888888888888888,
              "#b5de2b"
             ],
             [
              1,
              "#fde725"
             ]
            ],
            "type": "heatmapgl"
           }
          ],
          "histogram": [
           {
            "marker": {
             "line": {
              "color": "white",
              "width": 0.6
             }
            },
            "type": "histogram"
           }
          ],
          "histogram2d": [
           {
            "colorbar": {
             "outlinewidth": 1,
             "tickcolor": "rgb(36,36,36)",
             "ticks": "outside"
            },
            "colorscale": [
             [
              0,
              "#440154"
             ],
             [
              0.1111111111111111,
              "#482878"
             ],
             [
              0.2222222222222222,
              "#3e4989"
             ],
             [
              0.3333333333333333,
              "#31688e"
             ],
             [
              0.4444444444444444,
              "#26828e"
             ],
             [
              0.5555555555555556,
              "#1f9e89"
             ],
             [
              0.6666666666666666,
              "#35b779"
             ],
             [
              0.7777777777777778,
              "#6ece58"
             ],
             [
              0.8888888888888888,
              "#b5de2b"
             ],
             [
              1,
              "#fde725"
             ]
            ],
            "type": "histogram2d"
           }
          ],
          "histogram2dcontour": [
           {
            "colorbar": {
             "outlinewidth": 1,
             "tickcolor": "rgb(36,36,36)",
             "ticks": "outside"
            },
            "colorscale": [
             [
              0,
              "#440154"
             ],
             [
              0.1111111111111111,
              "#482878"
             ],
             [
              0.2222222222222222,
              "#3e4989"
             ],
             [
              0.3333333333333333,
              "#31688e"
             ],
             [
              0.4444444444444444,
              "#26828e"
             ],
             [
              0.5555555555555556,
              "#1f9e89"
             ],
             [
              0.6666666666666666,
              "#35b779"
             ],
             [
              0.7777777777777778,
              "#6ece58"
             ],
             [
              0.8888888888888888,
              "#b5de2b"
             ],
             [
              1,
              "#fde725"
             ]
            ],
            "type": "histogram2dcontour"
           }
          ],
          "mesh3d": [
           {
            "colorbar": {
             "outlinewidth": 1,
             "tickcolor": "rgb(36,36,36)",
             "ticks": "outside"
            },
            "type": "mesh3d"
           }
          ],
          "parcoords": [
           {
            "line": {
             "colorbar": {
              "outlinewidth": 1,
              "tickcolor": "rgb(36,36,36)",
              "ticks": "outside"
             }
            },
            "type": "parcoords"
           }
          ],
          "pie": [
           {
            "automargin": true,
            "type": "pie"
           }
          ],
          "scatter": [
           {
            "fillpattern": {
             "fillmode": "overlay",
             "size": 10,
             "solidity": 0.2
            },
            "type": "scatter"
           }
          ],
          "scatter3d": [
           {
            "line": {
             "colorbar": {
              "outlinewidth": 1,
              "tickcolor": "rgb(36,36,36)",
              "ticks": "outside"
             }
            },
            "marker": {
             "colorbar": {
              "outlinewidth": 1,
              "tickcolor": "rgb(36,36,36)",
              "ticks": "outside"
             }
            },
            "type": "scatter3d"
           }
          ],
          "scattercarpet": [
           {
            "marker": {
             "colorbar": {
              "outlinewidth": 1,
              "tickcolor": "rgb(36,36,36)",
              "ticks": "outside"
             }
            },
            "type": "scattercarpet"
           }
          ],
          "scattergeo": [
           {
            "marker": {
             "colorbar": {
              "outlinewidth": 1,
              "tickcolor": "rgb(36,36,36)",
              "ticks": "outside"
             }
            },
            "type": "scattergeo"
           }
          ],
          "scattergl": [
           {
            "marker": {
             "colorbar": {
              "outlinewidth": 1,
              "tickcolor": "rgb(36,36,36)",
              "ticks": "outside"
             }
            },
            "type": "scattergl"
           }
          ],
          "scattermapbox": [
           {
            "marker": {
             "colorbar": {
              "outlinewidth": 1,
              "tickcolor": "rgb(36,36,36)",
              "ticks": "outside"
             }
            },
            "type": "scattermapbox"
           }
          ],
          "scatterpolar": [
           {
            "marker": {
             "colorbar": {
              "outlinewidth": 1,
              "tickcolor": "rgb(36,36,36)",
              "ticks": "outside"
             }
            },
            "type": "scatterpolar"
           }
          ],
          "scatterpolargl": [
           {
            "marker": {
             "colorbar": {
              "outlinewidth": 1,
              "tickcolor": "rgb(36,36,36)",
              "ticks": "outside"
             }
            },
            "type": "scatterpolargl"
           }
          ],
          "scatterternary": [
           {
            "marker": {
             "colorbar": {
              "outlinewidth": 1,
              "tickcolor": "rgb(36,36,36)",
              "ticks": "outside"
             }
            },
            "type": "scatterternary"
           }
          ],
          "surface": [
           {
            "colorbar": {
             "outlinewidth": 1,
             "tickcolor": "rgb(36,36,36)",
             "ticks": "outside"
            },
            "colorscale": [
             [
              0,
              "#440154"
             ],
             [
              0.1111111111111111,
              "#482878"
             ],
             [
              0.2222222222222222,
              "#3e4989"
             ],
             [
              0.3333333333333333,
              "#31688e"
             ],
             [
              0.4444444444444444,
              "#26828e"
             ],
             [
              0.5555555555555556,
              "#1f9e89"
             ],
             [
              0.6666666666666666,
              "#35b779"
             ],
             [
              0.7777777777777778,
              "#6ece58"
             ],
             [
              0.8888888888888888,
              "#b5de2b"
             ],
             [
              1,
              "#fde725"
             ]
            ],
            "type": "surface"
           }
          ],
          "table": [
           {
            "cells": {
             "fill": {
              "color": "rgb(237,237,237)"
             },
             "line": {
              "color": "white"
             }
            },
            "header": {
             "fill": {
              "color": "rgb(217,217,217)"
             },
             "line": {
              "color": "white"
             }
            },
            "type": "table"
           }
          ]
         },
         "layout": {
          "annotationdefaults": {
           "arrowhead": 0,
           "arrowwidth": 1
          },
          "autotypenumbers": "strict",
          "coloraxis": {
           "colorbar": {
            "outlinewidth": 1,
            "tickcolor": "rgb(36,36,36)",
            "ticks": "outside"
           }
          },
          "colorscale": {
           "diverging": [
            [
             0,
             "rgb(103,0,31)"
            ],
            [
             0.1,
             "rgb(178,24,43)"
            ],
            [
             0.2,
             "rgb(214,96,77)"
            ],
            [
             0.3,
             "rgb(244,165,130)"
            ],
            [
             0.4,
             "rgb(253,219,199)"
            ],
            [
             0.5,
             "rgb(247,247,247)"
            ],
            [
             0.6,
             "rgb(209,229,240)"
            ],
            [
             0.7,
             "rgb(146,197,222)"
            ],
            [
             0.8,
             "rgb(67,147,195)"
            ],
            [
             0.9,
             "rgb(33,102,172)"
            ],
            [
             1,
             "rgb(5,48,97)"
            ]
           ],
           "sequential": [
            [
             0,
             "#440154"
            ],
            [
             0.1111111111111111,
             "#482878"
            ],
            [
             0.2222222222222222,
             "#3e4989"
            ],
            [
             0.3333333333333333,
             "#31688e"
            ],
            [
             0.4444444444444444,
             "#26828e"
            ],
            [
             0.5555555555555556,
             "#1f9e89"
            ],
            [
             0.6666666666666666,
             "#35b779"
            ],
            [
             0.7777777777777778,
             "#6ece58"
            ],
            [
             0.8888888888888888,
             "#b5de2b"
            ],
            [
             1,
             "#fde725"
            ]
           ],
           "sequentialminus": [
            [
             0,
             "#440154"
            ],
            [
             0.1111111111111111,
             "#482878"
            ],
            [
             0.2222222222222222,
             "#3e4989"
            ],
            [
             0.3333333333333333,
             "#31688e"
            ],
            [
             0.4444444444444444,
             "#26828e"
            ],
            [
             0.5555555555555556,
             "#1f9e89"
            ],
            [
             0.6666666666666666,
             "#35b779"
            ],
            [
             0.7777777777777778,
             "#6ece58"
            ],
            [
             0.8888888888888888,
             "#b5de2b"
            ],
            [
             1,
             "#fde725"
            ]
           ]
          },
          "colorway": [
           "#1F77B4",
           "#FF7F0E",
           "#2CA02C",
           "#D62728",
           "#9467BD",
           "#8C564B",
           "#E377C2",
           "#7F7F7F",
           "#BCBD22",
           "#17BECF"
          ],
          "font": {
           "color": "rgb(36,36,36)"
          },
          "geo": {
           "bgcolor": "white",
           "lakecolor": "white",
           "landcolor": "white",
           "showlakes": true,
           "showland": true,
           "subunitcolor": "white"
          },
          "hoverlabel": {
           "align": "left"
          },
          "hovermode": "closest",
          "mapbox": {
           "style": "light"
          },
          "paper_bgcolor": "white",
          "plot_bgcolor": "white",
          "polar": {
           "angularaxis": {
            "gridcolor": "rgb(232,232,232)",
            "linecolor": "rgb(36,36,36)",
            "showgrid": false,
            "showline": true,
            "ticks": "outside"
           },
           "bgcolor": "white",
           "radialaxis": {
            "gridcolor": "rgb(232,232,232)",
            "linecolor": "rgb(36,36,36)",
            "showgrid": false,
            "showline": true,
            "ticks": "outside"
           }
          },
          "scene": {
           "xaxis": {
            "backgroundcolor": "white",
            "gridcolor": "rgb(232,232,232)",
            "gridwidth": 2,
            "linecolor": "rgb(36,36,36)",
            "showbackground": true,
            "showgrid": false,
            "showline": true,
            "ticks": "outside",
            "zeroline": false,
            "zerolinecolor": "rgb(36,36,36)"
           },
           "yaxis": {
            "backgroundcolor": "white",
            "gridcolor": "rgb(232,232,232)",
            "gridwidth": 2,
            "linecolor": "rgb(36,36,36)",
            "showbackground": true,
            "showgrid": false,
            "showline": true,
            "ticks": "outside",
            "zeroline": false,
            "zerolinecolor": "rgb(36,36,36)"
           },
           "zaxis": {
            "backgroundcolor": "white",
            "gridcolor": "rgb(232,232,232)",
            "gridwidth": 2,
            "linecolor": "rgb(36,36,36)",
            "showbackground": true,
            "showgrid": false,
            "showline": true,
            "ticks": "outside",
            "zeroline": false,
            "zerolinecolor": "rgb(36,36,36)"
           }
          },
          "shapedefaults": {
           "fillcolor": "black",
           "line": {
            "width": 0
           },
           "opacity": 0.3
          },
          "ternary": {
           "aaxis": {
            "gridcolor": "rgb(232,232,232)",
            "linecolor": "rgb(36,36,36)",
            "showgrid": false,
            "showline": true,
            "ticks": "outside"
           },
           "baxis": {
            "gridcolor": "rgb(232,232,232)",
            "linecolor": "rgb(36,36,36)",
            "showgrid": false,
            "showline": true,
            "ticks": "outside"
           },
           "bgcolor": "white",
           "caxis": {
            "gridcolor": "rgb(232,232,232)",
            "linecolor": "rgb(36,36,36)",
            "showgrid": false,
            "showline": true,
            "ticks": "outside"
           }
          },
          "title": {
           "x": 0.05
          },
          "xaxis": {
           "automargin": true,
           "gridcolor": "rgb(232,232,232)",
           "linecolor": "rgb(36,36,36)",
           "showgrid": false,
           "showline": true,
           "ticks": "outside",
           "title": {
            "standoff": 15
           },
           "zeroline": false,
           "zerolinecolor": "rgb(36,36,36)"
          },
          "yaxis": {
           "automargin": true,
           "gridcolor": "rgb(232,232,232)",
           "linecolor": "rgb(36,36,36)",
           "showgrid": false,
           "showline": true,
           "ticks": "outside",
           "title": {
            "standoff": 15
           },
           "zeroline": false,
           "zerolinecolor": "rgb(36,36,36)"
          }
         }
        },
        "title": {
         "font": {
          "color": "Black",
          "size": 22
         },
         "text": "<b>Topics over Time</b>",
         "x": 0.4,
         "xanchor": "center",
         "y": 0.95,
         "yanchor": "top"
        },
        "width": 1250,
        "xaxis": {
         "showgrid": true
        },
        "yaxis": {
         "showgrid": true,
         "title": {
          "text": "Normalized Frequency"
         }
        }
       }
      }
     },
     "metadata": {},
     "output_type": "display_data"
    }
   ],
   "source": [
    "topics_over_time_pal['Relative Frequency'] = topics_over_time_pal.groupby('Timestamp')['Frequency'].transform(lambda x: x / x.sum())\n",
    "\n",
    "fig = topic_model_pal.visualize_topics_over_time(topics_over_time_pal, topics=[0, 3, 5, 21], normalize_frequency=True)\n",
    "fig.show()"
   ]
  },
  {
   "cell_type": "markdown",
   "metadata": {},
   "source": [
    "## Plots of Topic Embedding"
   ]
  },
  {
   "cell_type": "code",
   "execution_count": 26,
   "metadata": {},
   "outputs": [],
   "source": [
    "import numpy as np"
   ]
  },
  {
   "cell_type": "code",
   "execution_count": 41,
   "metadata": {},
   "outputs": [],
   "source": [
    "topic_embeddings_is = topic_model_is.topic_embeddings_\n",
    "topic_size_is = topic_model_is.topic_sizes_.most_common(200)\n",
    "topic_size_is = [topic_size_is[x][1] for x in range(len(topic_size_is))]"
   ]
  },
  {
   "cell_type": "code",
   "execution_count": 32,
   "metadata": {},
   "outputs": [],
   "source": [
    "topic_embeddings_pal = topic_model_pal.topic_embeddings_\n",
    "topic_size_pal = topic_model_pal.topic_sizes_.most_common(200)\n",
    "topic_size_pal = [topic_size_pal[x][1] for x in range(len(topic_size_pal))]"
   ]
  },
  {
   "cell_type": "code",
   "execution_count": 33,
   "metadata": {},
   "outputs": [],
   "source": [
    "import matplotlib.pyplot as plt\n",
    "def set_plot_style(ax, title=None, xlabel=None, ylabel=None, xscale='linear', yscale='linear', xlims=None, ylims=None, xticks=None, yticks=None, xticklabels=None, yticklabels=None, legend=True, legend_args={}, xticklabels_args={}, yticklabels_args={}):\n",
    "    ax.set_title(title, fontweight='semibold')\n",
    "    ax.set_xlabel(xlabel, fontweight='semibold', color='#454545')\n",
    "    ax.set_ylabel(ylabel, fontweight='semibold', color='#454545')\n",
    "    ax.set_xscale(xscale)\n",
    "    ax.set_yscale(yscale)\n",
    "    if legend: ax.legend(frameon = False,**legend_args)\n",
    "    if not xlims is None: ax.set_xlim(xlims)\n",
    "    if not ylims is None: ax.set_ylim(ylims)\n",
    "    if not xticks is None: ax.set_xticks(xticks)\n",
    "    if not yticks is None: ax.set_yticks(yticks)\n",
    "    if not xticklabels is None: ax.set_xticklabels(xticklabels, **xticklabels_args)\n",
    "    if not yticklabels is None: ax.set_xticklabels(yticklabels, **yticklabels_args)\n",
    "\n",
    "    for spine in ('top', 'right'): \n",
    "        ax.spines[spine].set_visible(False)\n",
    "    \n",
    "plt.rcParams.update({'font.size': 10, 'font.style': 'normal', 'font.family':'serif'})"
   ]
  },
  {
   "cell_type": "markdown",
   "metadata": {},
   "source": [
    "### Using t-SNE"
   ]
  },
  {
   "cell_type": "code",
   "execution_count": 49,
   "metadata": {},
   "outputs": [
    {
     "data": {
      "image/png": "[encoded data removed]",
      "text/plain": [
       "<Figure size 640x480 with 1 Axes>"
      ]
     },
     "metadata": {},
     "output_type": "display_data"
    }
   ],
   "source": [
    "\n",
    "from sklearn.metrics.pairwise import cosine_similarity\n",
    "from sklearn.manifold import TSNE\n",
    "\n",
    "\n",
    "# Compute pairwise similarities between topic embeddings\n",
    "similarities_is = cosine_similarity(topic_embeddings_is)\n",
    "similarities_pal = cosine_similarity(topic_embeddings_pal)\n",
    "\n",
    "\n",
    "# Apply t-SNE for dimensionality reduction \n",
    "tsne = TSNE(n_components=2, perplexity = 30, random_state=42)\n",
    "embeddings_2d_is = tsne.fit_transform(topic_embeddings_is)\n",
    "embeddings_2d_pal = tsne.fit_transform(topic_embeddings_pal)\n",
    "labels_is = np.arange(0, len(topic_embeddings_is))\n",
    "labels_pal = np.arange(0, len(topic_embeddings_pal))\n",
    "\n",
    "# Plot\n",
    "fig, ax = plt.subplots()\n",
    "for i, label in enumerate(labels_is):\n",
    "    x1, y1 = embeddings_2d_is[i, 0], embeddings_2d_is[i, 1]\n",
    "    ax.scatter(x1, y1, c='orange', marker='o', s = 10* np.sqrt(topic_size_is[i]), alpha = 0.6, label = 'Israel' if i == 5 else '')\n",
    "\n",
    "for i, label in enumerate(labels_pal):\n",
    "    x2, y2 = embeddings_2d_pal[i, 0], embeddings_2d_pal[i, 1]\n",
    "    ax.scatter(x2, y2, c='green', marker='o', s = 10* np.sqrt(topic_size_pal[i]), alpha = 0.6, label = 'Palestine' if i == 5 else '')\n",
    "\n",
    "set_plot_style(ax,title='t-SNE Visualization of Topic Embeddings' ,xlabel='Dimension 1',ylabel='Dimension 2')\n",
    "\n"
   ]
  },
  {
   "cell_type": "markdown",
   "metadata": {},
   "source": [
    "### Using PCA"
   ]
  },
  {
   "cell_type": "code",
   "execution_count": 52,
   "metadata": {},
   "outputs": [
    {
     "data": {
      "image/png": "[encoded data removed]",
      "text/plain": [
       "<Figure size 640x480 with 1 Axes>"
      ]
     },
     "metadata": {},
     "output_type": "display_data"
    }
   ],
   "source": [
    "from sklearn.decomposition import PCA\n",
    "\n",
    "# Compute pairwise similarities between topic embeddings\n",
    "similarities = cosine_similarity(topic_embeddings_is)\n",
    "\n",
    "# Apply t-SNE for dimensionality reduction with lower perplexity\n",
    "pca = PCA(n_components=2, random_state=42)\n",
    "\n",
    "pca.fit(np.concatenate((topic_embeddings_is, topic_embeddings_pal), axis=0))\n",
    "embeddings_2d_is = pca.transform(topic_embeddings_is)\n",
    "embeddings_2d_pal = pca.transform(topic_embeddings_pal)\n",
    "\n",
    "# Create labels for topics\n",
    "labels_is = np.arange(0, len(topic_embeddings_is))\n",
    "labels_pal = np.arange(0, len(topic_embeddings_pal))\n",
    "\n",
    "# Plot the 2D embeddings with labels\n",
    "fig, ax = plt.subplots()\n",
    "for i, label in enumerate(labels_is):\n",
    "    x1, y1 = embeddings_2d_is[i, 0], embeddings_2d_is[i, 1]\n",
    "    ax.scatter(x1, y1, c='orange', marker='o', s = 10* np.sqrt(topic_size_is[i]), alpha = 0.6, label = 'Israel' if i == 10 else '')\n",
    "\n",
    "for i, label in enumerate(labels_pal):\n",
    "    x2, y2 = embeddings_2d_pal[i, 0], embeddings_2d_pal[i, 1]\n",
    "    ax.scatter(x2, y2, c='green', marker='o', s = 10* np.sqrt(topic_size_pal[i]), alpha = 0.6, label = 'Palestine' if i == 10 else '')\n",
    "\n",
    "set_plot_style(ax,title='PCA Visualization of Topic Embeddings', xlabel='Dimension 1', ylabel='Dimension 2', legend=True)"
   ]
  }
 ],
 "metadata": {
  "kernelspec": {
   "display_name": "nlp",
   "language": "python",
   "name": "python3"
  },
  "language_info": {
   "codemirror_mode": {
    "name": "ipython",
    "version": 3
   },
   "file_extension": ".py",
   "mimetype": "text/x-python",
   "name": "python",
   "nbconvert_exporter": "python",
   "pygments_lexer": "ipython3",
   "version": "3.12.3"
  }
 },
 "nbformat": 4,
 "nbformat_minor": 2
}
